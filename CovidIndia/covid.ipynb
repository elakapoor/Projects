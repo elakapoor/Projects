{
 "cells": [
  {
   "cell_type": "markdown",
   "metadata": {},
   "source": [
    "With covid-19 beign categorized as the pandemic of the decade it has become necessary for the community ranging from scientist to cloud providers to government of the countries for the urgent and valid analysis of the virus spread.<br><br>\n",
    "The dataset which I used is available at kaggle. I have provided the analysis of the affect of the virus on the Indian states. Following were the main points which I have covered using numpy and pandas module for the analysis:-\n",
    "1. Is there any missing value in data.\n",
    "2. The size shape and dimension of the dataset.\n",
    "3. The total sum of the different cases emerged.\n",
    "4. Mean, median, percentile and standard division provided the EDA analysis of the dataset.\n",
    "5. The states having Total Confirmed cases more than mean.\n",
    "6. The states having death rate more than mean.\n",
    "7. The states having Cured/Discharged/Migrated less than mean.\n",
    "8. The maximum values of different cases.\n",
    "9. The minimum values of different cases.\n",
    "10. The ratio of Deaths to Total Confirmed cases in respective states provide the fatality ratio of the state.\n",
    "11. The states having the fatality rate less than the mean.\n",
    "12. The ratio of Cured to Total Confirmed cases in respective states provide the mortality ratio of the state.\n",
    "13. The states having the mortality rate more than the mean."
   ]
  },
  {
   "cell_type": "code",
   "execution_count": 1,
   "metadata": {},
   "outputs": [],
   "source": [
    "import pandas as pd\n",
    "import numpy as np"
   ]
  },
  {
   "cell_type": "markdown",
   "metadata": {},
   "source": [
    "# Importing the data\n"
   ]
  },
  {
   "cell_type": "code",
   "execution_count": 2,
   "metadata": {},
   "outputs": [],
   "source": [
    "file = pd.read_csv('CovidIndia.csv')"
   ]
  },
  {
   "cell_type": "code",
   "execution_count": 3,
   "metadata": {},
   "outputs": [
    {
     "data": {
      "text/html": [
       "<div>\n",
       "<style scoped>\n",
       "    .dataframe tbody tr th:only-of-type {\n",
       "        vertical-align: middle;\n",
       "    }\n",
       "\n",
       "    .dataframe tbody tr th {\n",
       "        vertical-align: top;\n",
       "    }\n",
       "\n",
       "    .dataframe thead th {\n",
       "        text-align: right;\n",
       "    }\n",
       "</style>\n",
       "<table border=\"1\" class=\"dataframe\">\n",
       "  <thead>\n",
       "    <tr style=\"text-align: right;\">\n",
       "      <th></th>\n",
       "      <th>S. No.</th>\n",
       "      <th>Name of State / UT</th>\n",
       "      <th>Total Confirmed cases</th>\n",
       "      <th>Active</th>\n",
       "      <th>Cured/Discharged/Migrated</th>\n",
       "      <th>Deaths</th>\n",
       "    </tr>\n",
       "  </thead>\n",
       "  <tbody>\n",
       "    <tr>\n",
       "      <td>0</td>\n",
       "      <td>1</td>\n",
       "      <td>Andhra Pradesh</td>\n",
       "      <td>1583</td>\n",
       "      <td>1062</td>\n",
       "      <td>488</td>\n",
       "      <td>33</td>\n",
       "    </tr>\n",
       "    <tr>\n",
       "      <td>1</td>\n",
       "      <td>2</td>\n",
       "      <td>Andaman and Nicobar Islands</td>\n",
       "      <td>33</td>\n",
       "      <td>1</td>\n",
       "      <td>32</td>\n",
       "      <td>0</td>\n",
       "    </tr>\n",
       "    <tr>\n",
       "      <td>2</td>\n",
       "      <td>3</td>\n",
       "      <td>Arunachal Pradesh</td>\n",
       "      <td>1</td>\n",
       "      <td>0</td>\n",
       "      <td>1</td>\n",
       "      <td>0</td>\n",
       "    </tr>\n",
       "    <tr>\n",
       "      <td>3</td>\n",
       "      <td>4</td>\n",
       "      <td>Assam</td>\n",
       "      <td>43</td>\n",
       "      <td>9</td>\n",
       "      <td>33</td>\n",
       "      <td>1</td>\n",
       "    </tr>\n",
       "    <tr>\n",
       "      <td>4</td>\n",
       "      <td>5</td>\n",
       "      <td>Bihar</td>\n",
       "      <td>517</td>\n",
       "      <td>396</td>\n",
       "      <td>117</td>\n",
       "      <td>4</td>\n",
       "    </tr>\n",
       "  </tbody>\n",
       "</table>\n",
       "</div>"
      ],
      "text/plain": [
       "   S. No.           Name of State / UT  Total Confirmed cases  Active  \\\n",
       "0       1               Andhra Pradesh                   1583    1062   \n",
       "1       2  Andaman and Nicobar Islands                     33       1   \n",
       "2       3            Arunachal Pradesh                      1       0   \n",
       "3       4                        Assam                     43       9   \n",
       "4       5                        Bihar                    517     396   \n",
       "\n",
       "   Cured/Discharged/Migrated  Deaths  \n",
       "0                        488      33  \n",
       "1                         32       0  \n",
       "2                          1       0  \n",
       "3                         33       1  \n",
       "4                        117       4  "
      ]
     },
     "execution_count": 3,
     "metadata": {},
     "output_type": "execute_result"
    }
   ],
   "source": [
    "file.head()"
   ]
  },
  {
   "cell_type": "markdown",
   "metadata": {},
   "source": [
    "# Checking the null value."
   ]
  },
  {
   "cell_type": "code",
   "execution_count": 4,
   "metadata": {},
   "outputs": [
    {
     "data": {
      "text/plain": [
       "False"
      ]
     },
     "execution_count": 4,
     "metadata": {},
     "output_type": "execute_result"
    }
   ],
   "source": [
    "is_nan = file.isnull().values.any()\n",
    "is_nan"
   ]
  },
  {
   "cell_type": "markdown",
   "metadata": {},
   "source": [
    "# Checking the size, shape and dimension of the array"
   ]
  },
  {
   "cell_type": "code",
   "execution_count": 5,
   "metadata": {},
   "outputs": [
    {
     "name": "stdout",
     "output_type": "stream",
     "text": [
      "The size of array is: \n",
      "192\n",
      "\n",
      "The shape of array is: \n",
      "(32, 6)\n",
      "\n",
      "The dimension of array is: \n",
      "2\n"
     ]
    }
   ],
   "source": [
    "file_size = file.size\n",
    "print('The size of array is: ', file_size, sep = '\\n')\n",
    "file_shape = file.shape\n",
    "print('\\nThe shape of array is: ',file_shape, sep = '\\n')\n",
    "file_dim = file.ndim\n",
    "print('\\nThe dimension of array is: ', file_dim, sep = '\\n')"
   ]
  },
  {
   "cell_type": "markdown",
   "metadata": {},
   "source": [
    "# The sum of different individual cases."
   ]
  },
  {
   "cell_type": "code",
   "execution_count": 6,
   "metadata": {},
   "outputs": [
    {
     "name": "stdout",
     "output_type": "stream",
     "text": [
      "The sum of the columns \n",
      "S. No.                                                                     528\n",
      "Name of State / UT           Andhra PradeshAndaman and Nicobar IslandsAruna...\n",
      "Total Confirmed cases                                                    42546\n",
      "Active                                                                   29376\n",
      "Cured/Discharged/Migrated                                                11775\n",
      "Deaths                                                                    1391\n",
      "dtype: object\n"
     ]
    }
   ],
   "source": [
    "sum_analysis = np.sum(file, axis = 0)\n",
    "print('''The sum of the columns ''', sum_analysis, sep = '\\n')"
   ]
  },
  {
   "cell_type": "markdown",
   "metadata": {},
   "source": [
    "# The mean of different cases"
   ]
  },
  {
   "cell_type": "code",
   "execution_count": 7,
   "metadata": {},
   "outputs": [
    {
     "name": "stdout",
     "output_type": "stream",
     "text": [
      "The mean of the columns is: \n",
      "S. No.                         16.50000\n",
      "Total Confirmed cases        1329.56250\n",
      "Active                        918.00000\n",
      "Cured/Discharged/Migrated     367.96875\n",
      "Deaths                         43.46875\n",
      "dtype: float64\n"
     ]
    }
   ],
   "source": [
    "mean_analysis = np.mean(file, axis = 0)\n",
    "print('The mean of the columns is: ', mean_analysis, sep = '\\n')"
   ]
  },
  {
   "cell_type": "markdown",
   "metadata": {},
   "source": [
    "# States where the Total Confirmed cases are more than mean cases"
   ]
  },
  {
   "cell_type": "markdown",
   "metadata": {},
   "source": [
    "I tried various numpy method but I was not able to produce the below output. Hence I used pandas. Please let me know if you have the way to produce the following output using numpy."
   ]
  },
  {
   "cell_type": "code",
   "execution_count": 8,
   "metadata": {},
   "outputs": [
    {
     "name": "stdout",
     "output_type": "stream",
     "text": [
      "Following chart shows the state where cases are greater than mean: \n"
     ]
    },
    {
     "data": {
      "text/html": [
       "<div>\n",
       "<style scoped>\n",
       "    .dataframe tbody tr th:only-of-type {\n",
       "        vertical-align: middle;\n",
       "    }\n",
       "\n",
       "    .dataframe tbody tr th {\n",
       "        vertical-align: top;\n",
       "    }\n",
       "\n",
       "    .dataframe thead th {\n",
       "        text-align: right;\n",
       "    }\n",
       "</style>\n",
       "<table border=\"1\" class=\"dataframe\">\n",
       "  <thead>\n",
       "    <tr style=\"text-align: right;\">\n",
       "      <th></th>\n",
       "      <th>S. No.</th>\n",
       "      <th>Name of State / UT</th>\n",
       "      <th>Total Confirmed cases</th>\n",
       "      <th>Active</th>\n",
       "      <th>Cured/Discharged/Migrated</th>\n",
       "      <th>Deaths</th>\n",
       "    </tr>\n",
       "  </thead>\n",
       "  <tbody>\n",
       "    <tr>\n",
       "      <td>0</td>\n",
       "      <td>1</td>\n",
       "      <td>Andhra Pradesh</td>\n",
       "      <td>1583</td>\n",
       "      <td>1062</td>\n",
       "      <td>488</td>\n",
       "      <td>33</td>\n",
       "    </tr>\n",
       "    <tr>\n",
       "      <td>7</td>\n",
       "      <td>8</td>\n",
       "      <td>Delhi</td>\n",
       "      <td>4549</td>\n",
       "      <td>3123</td>\n",
       "      <td>1362</td>\n",
       "      <td>64</td>\n",
       "    </tr>\n",
       "    <tr>\n",
       "      <td>9</td>\n",
       "      <td>10</td>\n",
       "      <td>Gujarat</td>\n",
       "      <td>5428</td>\n",
       "      <td>4096</td>\n",
       "      <td>1042</td>\n",
       "      <td>290</td>\n",
       "    </tr>\n",
       "    <tr>\n",
       "      <td>17</td>\n",
       "      <td>18</td>\n",
       "      <td>Madhya Pradesh</td>\n",
       "      <td>2837</td>\n",
       "      <td>1883</td>\n",
       "      <td>798</td>\n",
       "      <td>156</td>\n",
       "    </tr>\n",
       "    <tr>\n",
       "      <td>18</td>\n",
       "      <td>19</td>\n",
       "      <td>Maharashtra</td>\n",
       "      <td>12974</td>\n",
       "      <td>10311</td>\n",
       "      <td>2115</td>\n",
       "      <td>548</td>\n",
       "    </tr>\n",
       "    <tr>\n",
       "      <td>25</td>\n",
       "      <td>26</td>\n",
       "      <td>Rajasthan</td>\n",
       "      <td>2886</td>\n",
       "      <td>1459</td>\n",
       "      <td>1356</td>\n",
       "      <td>71</td>\n",
       "    </tr>\n",
       "    <tr>\n",
       "      <td>26</td>\n",
       "      <td>27</td>\n",
       "      <td>Tamil Nadu</td>\n",
       "      <td>3023</td>\n",
       "      <td>1614</td>\n",
       "      <td>1379</td>\n",
       "      <td>30</td>\n",
       "    </tr>\n",
       "    <tr>\n",
       "      <td>30</td>\n",
       "      <td>31</td>\n",
       "      <td>Uttar Pradesh</td>\n",
       "      <td>2645</td>\n",
       "      <td>1848</td>\n",
       "      <td>754</td>\n",
       "      <td>43</td>\n",
       "    </tr>\n",
       "  </tbody>\n",
       "</table>\n",
       "</div>"
      ],
      "text/plain": [
       "    S. No. Name of State / UT  Total Confirmed cases  Active  \\\n",
       "0        1     Andhra Pradesh                   1583    1062   \n",
       "7        8              Delhi                   4549    3123   \n",
       "9       10            Gujarat                   5428    4096   \n",
       "17      18     Madhya Pradesh                   2837    1883   \n",
       "18      19        Maharashtra                  12974   10311   \n",
       "25      26          Rajasthan                   2886    1459   \n",
       "26      27         Tamil Nadu                   3023    1614   \n",
       "30      31      Uttar Pradesh                   2645    1848   \n",
       "\n",
       "    Cured/Discharged/Migrated  Deaths  \n",
       "0                         488      33  \n",
       "7                        1362      64  \n",
       "9                        1042     290  \n",
       "17                        798     156  \n",
       "18                       2115     548  \n",
       "25                       1356      71  \n",
       "26                       1379      30  \n",
       "30                        754      43  "
      ]
     },
     "execution_count": 8,
     "metadata": {},
     "output_type": "execute_result"
    }
   ],
   "source": [
    "cases_greater_than_mean = file.loc[file[\"Total Confirmed cases\"] >= 1329.56250]\n",
    "print('Following chart shows the state where cases are greater than mean: ')\n",
    "cases_greater_than_mean"
   ]
  },
  {
   "cell_type": "markdown",
   "metadata": {},
   "source": [
    "# States where the Death cases are more than mean "
   ]
  },
  {
   "cell_type": "code",
   "execution_count": 9,
   "metadata": {},
   "outputs": [
    {
     "name": "stdout",
     "output_type": "stream",
     "text": [
      "Following chart shows the state where deaths are greater than mean: \n"
     ]
    },
    {
     "data": {
      "text/html": [
       "<div>\n",
       "<style scoped>\n",
       "    .dataframe tbody tr th:only-of-type {\n",
       "        vertical-align: middle;\n",
       "    }\n",
       "\n",
       "    .dataframe tbody tr th {\n",
       "        vertical-align: top;\n",
       "    }\n",
       "\n",
       "    .dataframe thead th {\n",
       "        text-align: right;\n",
       "    }\n",
       "</style>\n",
       "<table border=\"1\" class=\"dataframe\">\n",
       "  <thead>\n",
       "    <tr style=\"text-align: right;\">\n",
       "      <th></th>\n",
       "      <th>S. No.</th>\n",
       "      <th>Name of State / UT</th>\n",
       "      <th>Total Confirmed cases</th>\n",
       "      <th>Active</th>\n",
       "      <th>Cured/Discharged/Migrated</th>\n",
       "      <th>Deaths</th>\n",
       "    </tr>\n",
       "  </thead>\n",
       "  <tbody>\n",
       "    <tr>\n",
       "      <td>7</td>\n",
       "      <td>8</td>\n",
       "      <td>Delhi</td>\n",
       "      <td>4549</td>\n",
       "      <td>3123</td>\n",
       "      <td>1362</td>\n",
       "      <td>64</td>\n",
       "    </tr>\n",
       "    <tr>\n",
       "      <td>9</td>\n",
       "      <td>10</td>\n",
       "      <td>Gujarat</td>\n",
       "      <td>5428</td>\n",
       "      <td>4096</td>\n",
       "      <td>1042</td>\n",
       "      <td>290</td>\n",
       "    </tr>\n",
       "    <tr>\n",
       "      <td>17</td>\n",
       "      <td>18</td>\n",
       "      <td>Madhya Pradesh</td>\n",
       "      <td>2837</td>\n",
       "      <td>1883</td>\n",
       "      <td>798</td>\n",
       "      <td>156</td>\n",
       "    </tr>\n",
       "    <tr>\n",
       "      <td>18</td>\n",
       "      <td>19</td>\n",
       "      <td>Maharashtra</td>\n",
       "      <td>12974</td>\n",
       "      <td>10311</td>\n",
       "      <td>2115</td>\n",
       "      <td>548</td>\n",
       "    </tr>\n",
       "    <tr>\n",
       "      <td>25</td>\n",
       "      <td>26</td>\n",
       "      <td>Rajasthan</td>\n",
       "      <td>2886</td>\n",
       "      <td>1459</td>\n",
       "      <td>1356</td>\n",
       "      <td>71</td>\n",
       "    </tr>\n",
       "    <tr>\n",
       "      <td>31</td>\n",
       "      <td>32</td>\n",
       "      <td>West Bengal</td>\n",
       "      <td>963</td>\n",
       "      <td>762</td>\n",
       "      <td>151</td>\n",
       "      <td>50</td>\n",
       "    </tr>\n",
       "  </tbody>\n",
       "</table>\n",
       "</div>"
      ],
      "text/plain": [
       "    S. No. Name of State / UT  Total Confirmed cases  Active  \\\n",
       "7        8              Delhi                   4549    3123   \n",
       "9       10            Gujarat                   5428    4096   \n",
       "17      18     Madhya Pradesh                   2837    1883   \n",
       "18      19        Maharashtra                  12974   10311   \n",
       "25      26          Rajasthan                   2886    1459   \n",
       "31      32        West Bengal                    963     762   \n",
       "\n",
       "    Cured/Discharged/Migrated  Deaths  \n",
       "7                        1362      64  \n",
       "9                        1042     290  \n",
       "17                        798     156  \n",
       "18                       2115     548  \n",
       "25                       1356      71  \n",
       "31                        151      50  "
      ]
     },
     "execution_count": 9,
     "metadata": {},
     "output_type": "execute_result"
    }
   ],
   "source": [
    "deaths_greater_than_mean = file.loc[file[\"Deaths\"] >= 43.46875]\n",
    "print('Following chart shows the state where deaths are greater than mean: ')\n",
    "deaths_greater_than_mean"
   ]
  },
  {
   "cell_type": "markdown",
   "metadata": {},
   "source": [
    "# States where the Cured/Discharged/Migrated cases are less than mean "
   ]
  },
  {
   "cell_type": "code",
   "execution_count": 10,
   "metadata": {},
   "outputs": [
    {
     "name": "stdout",
     "output_type": "stream",
     "text": [
      "Following chart shows the state where Cured/Discharged/Migrated are less than mean: \n"
     ]
    },
    {
     "data": {
      "text/html": [
       "<div>\n",
       "<style scoped>\n",
       "    .dataframe tbody tr th:only-of-type {\n",
       "        vertical-align: middle;\n",
       "    }\n",
       "\n",
       "    .dataframe tbody tr th {\n",
       "        vertical-align: top;\n",
       "    }\n",
       "\n",
       "    .dataframe thead th {\n",
       "        text-align: right;\n",
       "    }\n",
       "</style>\n",
       "<table border=\"1\" class=\"dataframe\">\n",
       "  <thead>\n",
       "    <tr style=\"text-align: right;\">\n",
       "      <th></th>\n",
       "      <th>S. No.</th>\n",
       "      <th>Name of State / UT</th>\n",
       "      <th>Total Confirmed cases</th>\n",
       "      <th>Active</th>\n",
       "      <th>Cured/Discharged/Migrated</th>\n",
       "      <th>Deaths</th>\n",
       "    </tr>\n",
       "  </thead>\n",
       "  <tbody>\n",
       "    <tr>\n",
       "      <td>1</td>\n",
       "      <td>2</td>\n",
       "      <td>Andaman and Nicobar Islands</td>\n",
       "      <td>33</td>\n",
       "      <td>1</td>\n",
       "      <td>32</td>\n",
       "      <td>0</td>\n",
       "    </tr>\n",
       "    <tr>\n",
       "      <td>2</td>\n",
       "      <td>3</td>\n",
       "      <td>Arunachal Pradesh</td>\n",
       "      <td>1</td>\n",
       "      <td>0</td>\n",
       "      <td>1</td>\n",
       "      <td>0</td>\n",
       "    </tr>\n",
       "    <tr>\n",
       "      <td>3</td>\n",
       "      <td>4</td>\n",
       "      <td>Assam</td>\n",
       "      <td>43</td>\n",
       "      <td>9</td>\n",
       "      <td>33</td>\n",
       "      <td>1</td>\n",
       "    </tr>\n",
       "    <tr>\n",
       "      <td>4</td>\n",
       "      <td>5</td>\n",
       "      <td>Bihar</td>\n",
       "      <td>517</td>\n",
       "      <td>396</td>\n",
       "      <td>117</td>\n",
       "      <td>4</td>\n",
       "    </tr>\n",
       "    <tr>\n",
       "      <td>5</td>\n",
       "      <td>6</td>\n",
       "      <td>Chandigarh</td>\n",
       "      <td>97</td>\n",
       "      <td>77</td>\n",
       "      <td>19</td>\n",
       "      <td>1</td>\n",
       "    </tr>\n",
       "  </tbody>\n",
       "</table>\n",
       "</div>"
      ],
      "text/plain": [
       "   S. No.           Name of State / UT  Total Confirmed cases  Active  \\\n",
       "1       2  Andaman and Nicobar Islands                     33       1   \n",
       "2       3            Arunachal Pradesh                      1       0   \n",
       "3       4                        Assam                     43       9   \n",
       "4       5                        Bihar                    517     396   \n",
       "5       6                   Chandigarh                     97      77   \n",
       "\n",
       "   Cured/Discharged/Migrated  Deaths  \n",
       "1                         32       0  \n",
       "2                          1       0  \n",
       "3                         33       1  \n",
       "4                        117       4  \n",
       "5                         19       1  "
      ]
     },
     "execution_count": 10,
     "metadata": {},
     "output_type": "execute_result"
    }
   ],
   "source": [
    "cured_less_than_mean = file.loc[file[\"Cured/Discharged/Migrated\"] <= 367.96875]\n",
    "print('Following chart shows the state where Cured/Discharged/Migrated are less than mean: ')\n",
    "cured_less_than_mean.head()"
   ]
  },
  {
   "cell_type": "markdown",
   "metadata": {},
   "source": [
    "# Calculating median along the axis"
   ]
  },
  {
   "cell_type": "code",
   "execution_count": 11,
   "metadata": {},
   "outputs": [
    {
     "name": "stdout",
     "output_type": "stream",
     "text": [
      "The median along the axis 0 is: \n",
      "[302.   98.   88.5   3.5]\n"
     ]
    }
   ],
   "source": [
    "selecting_rows = file.iloc[:,2:].values\n",
    "median_analysis = np.median(selecting_rows, axis = 0)\n",
    "print('The median along the axis 0 is: ', median_analysis, sep = '\\n')"
   ]
  },
  {
   "cell_type": "markdown",
   "metadata": {},
   "source": [
    "# Checking percentile 50, 75."
   ]
  },
  {
   "cell_type": "code",
   "execution_count": 12,
   "metadata": {},
   "outputs": [
    {
     "name": "stdout",
     "output_type": "stream",
     "text": [
      "The percentile along the axis 0 is: \n",
      "[302.   98.   88.5   3.5]\n"
     ]
    }
   ],
   "source": [
    "checking_percentile = np.percentile(selecting_rows, 50, axis = 0)\n",
    "print('The percentile along the axis 0 is: ', checking_percentile, sep = '\\n')"
   ]
  },
  {
   "cell_type": "markdown",
   "metadata": {},
   "source": [
    "As we can see above the value of percentile and median are same. This means that there are half of the active cases less than 302."
   ]
  },
  {
   "cell_type": "code",
   "execution_count": 13,
   "metadata": {},
   "outputs": [
    {
     "name": "stdout",
     "output_type": "stream",
     "text": [
      "The 75 percentile along the axis 0 is: \n",
      "[1222.25  988.5   502.25   30.75]\n"
     ]
    }
   ],
   "source": [
    "checking_percentile_75 = np.percentile(selecting_rows, 75, axis = 0)\n",
    "print('The 75 percentile along the axis 0 is: ', checking_percentile_75, sep = '\\n')"
   ]
  },
  {
   "cell_type": "markdown",
   "metadata": {},
   "source": [
    "The above values denote that the 25% values are less than above result."
   ]
  },
  {
   "cell_type": "markdown",
   "metadata": {},
   "source": [
    "# Checking standard deviation"
   ]
  },
  {
   "cell_type": "code",
   "execution_count": 14,
   "metadata": {},
   "outputs": [
    {
     "name": "stdout",
     "output_type": "stream",
     "text": [
      "The standard deviation are as follows\n",
      "[2511.77152297 1944.14119858  530.69968464  106.91643477]\n"
     ]
    }
   ],
   "source": [
    "file_std = np.std(selecting_rows, axis = 0)\n",
    "print('The standard deviation are as follows', file_std, sep = '\\n')"
   ]
  },
  {
   "cell_type": "markdown",
   "metadata": {},
   "source": [
    "# Checking the maximum values for each case"
   ]
  },
  {
   "cell_type": "code",
   "execution_count": 15,
   "metadata": {},
   "outputs": [
    {
     "name": "stdout",
     "output_type": "stream",
     "text": [
      "Following shows the maximum cases: \n",
      "S. No.                                32\n",
      "Name of State / UT           West Bengal\n",
      "Total Confirmed cases              12974\n",
      "Active                             10311\n",
      "Cured/Discharged/Migrated           2115\n",
      "Deaths                               548\n",
      "dtype: object\n"
     ]
    }
   ],
   "source": [
    "max_analysis = np.max(file, axis = 0)\n",
    "print('Following shows the maximum cases: ', max_analysis, sep = '\\n')"
   ]
  },
  {
   "cell_type": "markdown",
   "metadata": {},
   "source": [
    "# Checking the minimum values for each case"
   ]
  },
  {
   "cell_type": "code",
   "execution_count": 16,
   "metadata": {},
   "outputs": [
    {
     "name": "stdout",
     "output_type": "stream",
     "text": [
      "Following shows the minimum cases: \n",
      "S. No.                                                 1\n",
      "Name of State / UT           Andaman and Nicobar Islands\n",
      "Total Confirmed cases                                  1\n",
      "Active                                                 0\n",
      "Cured/Discharged/Migrated                              0\n",
      "Deaths                                                 0\n",
      "dtype: object\n"
     ]
    }
   ],
   "source": [
    "min_analysis = np.min(file, axis = 0)\n",
    "print('Following shows the minimum cases: ', min_analysis, sep = '\\n')"
   ]
  },
  {
   "cell_type": "markdown",
   "metadata": {},
   "source": [
    "# Determining the fatality ratio"
   ]
  },
  {
   "cell_type": "code",
   "execution_count": 17,
   "metadata": {},
   "outputs": [
    {
     "name": "stdout",
     "output_type": "stream",
     "text": [
      "The death rate is: \n",
      "30.586628324946084\n"
     ]
    }
   ],
   "source": [
    "fatality_ratio = 42546 / 1391\n",
    "print('The death rate is: ', fatality_ratio, sep = '\\n')"
   ]
  },
  {
   "cell_type": "code",
   "execution_count": 18,
   "metadata": {},
   "outputs": [],
   "source": [
    "total_case = selecting_rows[:,0:-3]\n",
    "death_rows = selecting_rows[:,-1:]\n",
    "fatality_ratio_state =  death_rows / total_case "
   ]
  },
  {
   "cell_type": "code",
   "execution_count": 19,
   "metadata": {},
   "outputs": [
    {
     "name": "stdout",
     "output_type": "stream",
     "text": [
      "The new array with volume column is: \n",
      "[[1.5830000e+03 1.0620000e+03 4.8800000e+02 3.3000000e+01 2.0846494e-02]\n",
      " [3.3000000e+01 1.0000000e+00 3.2000000e+01 0.0000000e+00 0.0000000e+00]\n",
      " [1.0000000e+00 0.0000000e+00 1.0000000e+00 0.0000000e+00 0.0000000e+00]\n",
      " [4.3000000e+01 9.0000000e+00 3.3000000e+01 1.0000000e+00 2.3255814e-02]]\n"
     ]
    }
   ],
   "source": [
    "fatality_1 = np.hstack([selecting_rows, fatality_ratio_state])\n",
    "\n",
    "print('The new array with volume column is: ', fatality_1[:4], sep = '\\n')"
   ]
  },
  {
   "cell_type": "code",
   "execution_count": 20,
   "metadata": {},
   "outputs": [
    {
     "data": {
      "text/html": [
       "<div>\n",
       "<style scoped>\n",
       "    .dataframe tbody tr th:only-of-type {\n",
       "        vertical-align: middle;\n",
       "    }\n",
       "\n",
       "    .dataframe tbody tr th {\n",
       "        vertical-align: top;\n",
       "    }\n",
       "\n",
       "    .dataframe thead th {\n",
       "        text-align: right;\n",
       "    }\n",
       "</style>\n",
       "<table border=\"1\" class=\"dataframe\">\n",
       "  <thead>\n",
       "    <tr style=\"text-align: right;\">\n",
       "      <th></th>\n",
       "      <th>S. No.</th>\n",
       "      <th>Name of State / UT</th>\n",
       "      <th>Total Confirmed cases</th>\n",
       "      <th>Active</th>\n",
       "      <th>Cured/Discharged/Migrated</th>\n",
       "      <th>Deaths</th>\n",
       "      <th>Fatality rate</th>\n",
       "    </tr>\n",
       "  </thead>\n",
       "  <tbody>\n",
       "    <tr>\n",
       "      <td>0</td>\n",
       "      <td>1</td>\n",
       "      <td>Andhra Pradesh</td>\n",
       "      <td>1583</td>\n",
       "      <td>1062</td>\n",
       "      <td>488</td>\n",
       "      <td>33</td>\n",
       "      <td>0.020846</td>\n",
       "    </tr>\n",
       "    <tr>\n",
       "      <td>1</td>\n",
       "      <td>2</td>\n",
       "      <td>Andaman and Nicobar Islands</td>\n",
       "      <td>33</td>\n",
       "      <td>1</td>\n",
       "      <td>32</td>\n",
       "      <td>0</td>\n",
       "      <td>0.000000</td>\n",
       "    </tr>\n",
       "    <tr>\n",
       "      <td>2</td>\n",
       "      <td>3</td>\n",
       "      <td>Arunachal Pradesh</td>\n",
       "      <td>1</td>\n",
       "      <td>0</td>\n",
       "      <td>1</td>\n",
       "      <td>0</td>\n",
       "      <td>0.000000</td>\n",
       "    </tr>\n",
       "    <tr>\n",
       "      <td>3</td>\n",
       "      <td>4</td>\n",
       "      <td>Assam</td>\n",
       "      <td>43</td>\n",
       "      <td>9</td>\n",
       "      <td>33</td>\n",
       "      <td>1</td>\n",
       "      <td>0.023256</td>\n",
       "    </tr>\n",
       "    <tr>\n",
       "      <td>4</td>\n",
       "      <td>5</td>\n",
       "      <td>Bihar</td>\n",
       "      <td>517</td>\n",
       "      <td>396</td>\n",
       "      <td>117</td>\n",
       "      <td>4</td>\n",
       "      <td>0.007737</td>\n",
       "    </tr>\n",
       "  </tbody>\n",
       "</table>\n",
       "</div>"
      ],
      "text/plain": [
       "   S. No.           Name of State / UT  Total Confirmed cases  Active  \\\n",
       "0       1               Andhra Pradesh                   1583    1062   \n",
       "1       2  Andaman and Nicobar Islands                     33       1   \n",
       "2       3            Arunachal Pradesh                      1       0   \n",
       "3       4                        Assam                     43       9   \n",
       "4       5                        Bihar                    517     396   \n",
       "\n",
       "   Cured/Discharged/Migrated  Deaths  Fatality rate  \n",
       "0                        488      33       0.020846  \n",
       "1                         32       0       0.000000  \n",
       "2                          1       0       0.000000  \n",
       "3                         33       1       0.023256  \n",
       "4                        117       4       0.007737  "
      ]
     },
     "execution_count": 20,
     "metadata": {},
     "output_type": "execute_result"
    }
   ],
   "source": [
    "file['Fatality rate'] = fatality_ratio_state\n",
    "file.head()"
   ]
  },
  {
   "cell_type": "code",
   "execution_count": 21,
   "metadata": {},
   "outputs": [
    {
     "name": "stdout",
     "output_type": "stream",
     "text": [
      "The mean of fatality rate is: \n",
      "S. No.                         16.50000\n",
      "Total Confirmed cases        1329.56250\n",
      "Active                        918.00000\n",
      "Cured/Discharged/Migrated     367.96875\n",
      "Deaths                         43.46875\n",
      "Fatality rate                   0.01966\n",
      "dtype: float64\n"
     ]
    }
   ],
   "source": [
    "fatality_mean = np.mean(file, axis = 0)\n",
    "print('The mean of fatality rate is: ', fatality_mean, sep = '\\n')"
   ]
  },
  {
   "cell_type": "markdown",
   "metadata": {},
   "source": [
    "# Determing the states having less fatality ratio than average"
   ]
  },
  {
   "cell_type": "code",
   "execution_count": 22,
   "metadata": {},
   "outputs": [
    {
     "name": "stdout",
     "output_type": "stream",
     "text": [
      "The states with fatality more than mean: \n"
     ]
    },
    {
     "data": {
      "text/html": [
       "<div>\n",
       "<style scoped>\n",
       "    .dataframe tbody tr th:only-of-type {\n",
       "        vertical-align: middle;\n",
       "    }\n",
       "\n",
       "    .dataframe tbody tr th {\n",
       "        vertical-align: top;\n",
       "    }\n",
       "\n",
       "    .dataframe thead th {\n",
       "        text-align: right;\n",
       "    }\n",
       "</style>\n",
       "<table border=\"1\" class=\"dataframe\">\n",
       "  <thead>\n",
       "    <tr style=\"text-align: right;\">\n",
       "      <th></th>\n",
       "      <th>S. No.</th>\n",
       "      <th>Name of State / UT</th>\n",
       "      <th>Total Confirmed cases</th>\n",
       "      <th>Active</th>\n",
       "      <th>Cured/Discharged/Migrated</th>\n",
       "      <th>Deaths</th>\n",
       "      <th>Fatality rate</th>\n",
       "    </tr>\n",
       "  </thead>\n",
       "  <tbody>\n",
       "    <tr>\n",
       "      <td>1</td>\n",
       "      <td>2</td>\n",
       "      <td>Andaman and Nicobar Islands</td>\n",
       "      <td>33</td>\n",
       "      <td>1</td>\n",
       "      <td>32</td>\n",
       "      <td>0</td>\n",
       "      <td>0.000000</td>\n",
       "    </tr>\n",
       "    <tr>\n",
       "      <td>2</td>\n",
       "      <td>3</td>\n",
       "      <td>Arunachal Pradesh</td>\n",
       "      <td>1</td>\n",
       "      <td>0</td>\n",
       "      <td>1</td>\n",
       "      <td>0</td>\n",
       "      <td>0.000000</td>\n",
       "    </tr>\n",
       "    <tr>\n",
       "      <td>4</td>\n",
       "      <td>5</td>\n",
       "      <td>Bihar</td>\n",
       "      <td>517</td>\n",
       "      <td>396</td>\n",
       "      <td>117</td>\n",
       "      <td>4</td>\n",
       "      <td>0.007737</td>\n",
       "    </tr>\n",
       "    <tr>\n",
       "      <td>5</td>\n",
       "      <td>6</td>\n",
       "      <td>Chandigarh</td>\n",
       "      <td>97</td>\n",
       "      <td>77</td>\n",
       "      <td>19</td>\n",
       "      <td>1</td>\n",
       "      <td>0.010309</td>\n",
       "    </tr>\n",
       "    <tr>\n",
       "      <td>6</td>\n",
       "      <td>7</td>\n",
       "      <td>Chhattisgarh</td>\n",
       "      <td>57</td>\n",
       "      <td>21</td>\n",
       "      <td>36</td>\n",
       "      <td>0</td>\n",
       "      <td>0.000000</td>\n",
       "    </tr>\n",
       "    <tr>\n",
       "      <td>7</td>\n",
       "      <td>8</td>\n",
       "      <td>Delhi</td>\n",
       "      <td>4549</td>\n",
       "      <td>3123</td>\n",
       "      <td>1362</td>\n",
       "      <td>64</td>\n",
       "      <td>0.014069</td>\n",
       "    </tr>\n",
       "    <tr>\n",
       "      <td>8</td>\n",
       "      <td>9</td>\n",
       "      <td>Goa</td>\n",
       "      <td>7</td>\n",
       "      <td>0</td>\n",
       "      <td>7</td>\n",
       "      <td>0</td>\n",
       "      <td>0.000000</td>\n",
       "    </tr>\n",
       "    <tr>\n",
       "      <td>10</td>\n",
       "      <td>11</td>\n",
       "      <td>Haryana</td>\n",
       "      <td>442</td>\n",
       "      <td>192</td>\n",
       "      <td>245</td>\n",
       "      <td>5</td>\n",
       "      <td>0.011312</td>\n",
       "    </tr>\n",
       "    <tr>\n",
       "      <td>12</td>\n",
       "      <td>13</td>\n",
       "      <td>Jammu and Kashmir</td>\n",
       "      <td>701</td>\n",
       "      <td>406</td>\n",
       "      <td>287</td>\n",
       "      <td>8</td>\n",
       "      <td>0.011412</td>\n",
       "    </tr>\n",
       "    <tr>\n",
       "      <td>15</td>\n",
       "      <td>16</td>\n",
       "      <td>Kerala</td>\n",
       "      <td>500</td>\n",
       "      <td>95</td>\n",
       "      <td>401</td>\n",
       "      <td>4</td>\n",
       "      <td>0.008000</td>\n",
       "    </tr>\n",
       "  </tbody>\n",
       "</table>\n",
       "</div>"
      ],
      "text/plain": [
       "    S. No.           Name of State / UT  Total Confirmed cases  Active  \\\n",
       "1        2  Andaman and Nicobar Islands                     33       1   \n",
       "2        3            Arunachal Pradesh                      1       0   \n",
       "4        5                        Bihar                    517     396   \n",
       "5        6                   Chandigarh                     97      77   \n",
       "6        7                 Chhattisgarh                     57      21   \n",
       "7        8                        Delhi                   4549    3123   \n",
       "8        9                          Goa                      7       0   \n",
       "10      11                      Haryana                    442     192   \n",
       "12      13            Jammu and Kashmir                    701     406   \n",
       "15      16                       Kerala                    500      95   \n",
       "\n",
       "    Cured/Discharged/Migrated  Deaths  Fatality rate  \n",
       "1                          32       0       0.000000  \n",
       "2                           1       0       0.000000  \n",
       "4                         117       4       0.007737  \n",
       "5                          19       1       0.010309  \n",
       "6                          36       0       0.000000  \n",
       "7                        1362      64       0.014069  \n",
       "8                           7       0       0.000000  \n",
       "10                        245       5       0.011312  \n",
       "12                        287       8       0.011412  \n",
       "15                        401       4       0.008000  "
      ]
     },
     "execution_count": 22,
     "metadata": {},
     "output_type": "execute_result"
    }
   ],
   "source": [
    "fatality_more_than_mean = file.loc[file[\"Fatality rate\"] < 0.01966]\n",
    "print('The states with fatality more than mean: ',  sep = '\\n')\n",
    "fatality_more_than_mean.head(10)"
   ]
  },
  {
   "cell_type": "markdown",
   "metadata": {},
   "source": [
    "# Determining the mortality ratio"
   ]
  },
  {
   "cell_type": "code",
   "execution_count": 23,
   "metadata": {},
   "outputs": [],
   "source": [
    "#death_rows = selecting_rows[:,-1:]\n",
    "#death_rows = death_rows.flatten()"
   ]
  },
  {
   "cell_type": "code",
   "execution_count": 24,
   "metadata": {},
   "outputs": [
    {
     "name": "stdout",
     "output_type": "stream",
     "text": [
      "The mortality rate is: \n",
      "3.613248407643312\n"
     ]
    }
   ],
   "source": [
    "mortality_ratio = 42546 / 11775\n",
    "print('The mortality rate is: ', mortality_ratio, sep = '\\n')"
   ]
  },
  {
   "cell_type": "code",
   "execution_count": 25,
   "metadata": {},
   "outputs": [],
   "source": [
    "total_case = selecting_rows[:,0:-3]\n",
    "cured_rows = selecting_rows[:,2:-1]\n",
    "mortality_ratio_state =  cured_rows / total_case "
   ]
  },
  {
   "cell_type": "code",
   "execution_count": 26,
   "metadata": {},
   "outputs": [
    {
     "name": "stdout",
     "output_type": "stream",
     "text": [
      "The new array with volume column is: \n",
      "[[1.58300000e+03 1.06200000e+03 4.88000000e+02 3.30000000e+01\n",
      "  3.08275426e-01]\n",
      " [3.30000000e+01 1.00000000e+00 3.20000000e+01 0.00000000e+00\n",
      "  9.69696970e-01]\n",
      " [1.00000000e+00 0.00000000e+00 1.00000000e+00 0.00000000e+00\n",
      "  1.00000000e+00]\n",
      " [4.30000000e+01 9.00000000e+00 3.30000000e+01 1.00000000e+00\n",
      "  7.67441860e-01]]\n"
     ]
    }
   ],
   "source": [
    "mortality_1 = np.hstack([selecting_rows, mortality_ratio_state])\n",
    "\n",
    "print('The new array with volume column is: ', mortality_1[:4], sep = '\\n')"
   ]
  },
  {
   "cell_type": "code",
   "execution_count": 27,
   "metadata": {},
   "outputs": [
    {
     "data": {
      "text/html": [
       "<div>\n",
       "<style scoped>\n",
       "    .dataframe tbody tr th:only-of-type {\n",
       "        vertical-align: middle;\n",
       "    }\n",
       "\n",
       "    .dataframe tbody tr th {\n",
       "        vertical-align: top;\n",
       "    }\n",
       "\n",
       "    .dataframe thead th {\n",
       "        text-align: right;\n",
       "    }\n",
       "</style>\n",
       "<table border=\"1\" class=\"dataframe\">\n",
       "  <thead>\n",
       "    <tr style=\"text-align: right;\">\n",
       "      <th></th>\n",
       "      <th>S. No.</th>\n",
       "      <th>Name of State / UT</th>\n",
       "      <th>Total Confirmed cases</th>\n",
       "      <th>Active</th>\n",
       "      <th>Cured/Discharged/Migrated</th>\n",
       "      <th>Deaths</th>\n",
       "      <th>Fatality rate</th>\n",
       "      <th>Mortality Rate</th>\n",
       "    </tr>\n",
       "  </thead>\n",
       "  <tbody>\n",
       "    <tr>\n",
       "      <td>0</td>\n",
       "      <td>1</td>\n",
       "      <td>Andhra Pradesh</td>\n",
       "      <td>1583</td>\n",
       "      <td>1062</td>\n",
       "      <td>488</td>\n",
       "      <td>33</td>\n",
       "      <td>0.020846</td>\n",
       "      <td>0.308275</td>\n",
       "    </tr>\n",
       "    <tr>\n",
       "      <td>1</td>\n",
       "      <td>2</td>\n",
       "      <td>Andaman and Nicobar Islands</td>\n",
       "      <td>33</td>\n",
       "      <td>1</td>\n",
       "      <td>32</td>\n",
       "      <td>0</td>\n",
       "      <td>0.000000</td>\n",
       "      <td>0.969697</td>\n",
       "    </tr>\n",
       "    <tr>\n",
       "      <td>2</td>\n",
       "      <td>3</td>\n",
       "      <td>Arunachal Pradesh</td>\n",
       "      <td>1</td>\n",
       "      <td>0</td>\n",
       "      <td>1</td>\n",
       "      <td>0</td>\n",
       "      <td>0.000000</td>\n",
       "      <td>1.000000</td>\n",
       "    </tr>\n",
       "    <tr>\n",
       "      <td>3</td>\n",
       "      <td>4</td>\n",
       "      <td>Assam</td>\n",
       "      <td>43</td>\n",
       "      <td>9</td>\n",
       "      <td>33</td>\n",
       "      <td>1</td>\n",
       "      <td>0.023256</td>\n",
       "      <td>0.767442</td>\n",
       "    </tr>\n",
       "    <tr>\n",
       "      <td>4</td>\n",
       "      <td>5</td>\n",
       "      <td>Bihar</td>\n",
       "      <td>517</td>\n",
       "      <td>396</td>\n",
       "      <td>117</td>\n",
       "      <td>4</td>\n",
       "      <td>0.007737</td>\n",
       "      <td>0.226306</td>\n",
       "    </tr>\n",
       "  </tbody>\n",
       "</table>\n",
       "</div>"
      ],
      "text/plain": [
       "   S. No.           Name of State / UT  Total Confirmed cases  Active  \\\n",
       "0       1               Andhra Pradesh                   1583    1062   \n",
       "1       2  Andaman and Nicobar Islands                     33       1   \n",
       "2       3            Arunachal Pradesh                      1       0   \n",
       "3       4                        Assam                     43       9   \n",
       "4       5                        Bihar                    517     396   \n",
       "\n",
       "   Cured/Discharged/Migrated  Deaths  Fatality rate  Mortality Rate  \n",
       "0                        488      33       0.020846        0.308275  \n",
       "1                         32       0       0.000000        0.969697  \n",
       "2                          1       0       0.000000        1.000000  \n",
       "3                         33       1       0.023256        0.767442  \n",
       "4                        117       4       0.007737        0.226306  "
      ]
     },
     "execution_count": 27,
     "metadata": {},
     "output_type": "execute_result"
    }
   ],
   "source": [
    "file['Mortality Rate'] = mortality_ratio_state\n",
    "file.head()"
   ]
  },
  {
   "cell_type": "code",
   "execution_count": 28,
   "metadata": {},
   "outputs": [
    {
     "name": "stdout",
     "output_type": "stream",
     "text": [
      "The mean of fatality rate is: \n",
      "S. No.                         16.500000\n",
      "Total Confirmed cases        1329.562500\n",
      "Active                        918.000000\n",
      "Cured/Discharged/Migrated     367.968750\n",
      "Deaths                         43.468750\n",
      "Fatality rate                   0.019660\n",
      "Mortality Rate                  0.475743\n",
      "dtype: float64\n"
     ]
    }
   ],
   "source": [
    "mortality_mean = np.mean(file, axis = 0)\n",
    "print('The mean of fatality rate is: ', mortality_mean, sep = '\\n')"
   ]
  },
  {
   "cell_type": "markdown",
   "metadata": {},
   "source": [
    "From above we can see that Mortality Rate is greater than Fatality rate."
   ]
  },
  {
   "cell_type": "markdown",
   "metadata": {},
   "source": [
    "# Determing the states having more mortality ratio than average"
   ]
  },
  {
   "cell_type": "code",
   "execution_count": 29,
   "metadata": {},
   "outputs": [
    {
     "name": "stdout",
     "output_type": "stream",
     "text": [
      "The states with mortality more than mean: \n"
     ]
    },
    {
     "data": {
      "text/html": [
       "<div>\n",
       "<style scoped>\n",
       "    .dataframe tbody tr th:only-of-type {\n",
       "        vertical-align: middle;\n",
       "    }\n",
       "\n",
       "    .dataframe tbody tr th {\n",
       "        vertical-align: top;\n",
       "    }\n",
       "\n",
       "    .dataframe thead th {\n",
       "        text-align: right;\n",
       "    }\n",
       "</style>\n",
       "<table border=\"1\" class=\"dataframe\">\n",
       "  <thead>\n",
       "    <tr style=\"text-align: right;\">\n",
       "      <th></th>\n",
       "      <th>S. No.</th>\n",
       "      <th>Name of State / UT</th>\n",
       "      <th>Total Confirmed cases</th>\n",
       "      <th>Active</th>\n",
       "      <th>Cured/Discharged/Migrated</th>\n",
       "      <th>Deaths</th>\n",
       "      <th>Fatality rate</th>\n",
       "      <th>Mortality Rate</th>\n",
       "    </tr>\n",
       "  </thead>\n",
       "  <tbody>\n",
       "    <tr>\n",
       "      <td>0</td>\n",
       "      <td>1</td>\n",
       "      <td>Andhra Pradesh</td>\n",
       "      <td>1583</td>\n",
       "      <td>1062</td>\n",
       "      <td>488</td>\n",
       "      <td>33</td>\n",
       "      <td>0.020846</td>\n",
       "      <td>0.308275</td>\n",
       "    </tr>\n",
       "    <tr>\n",
       "      <td>1</td>\n",
       "      <td>2</td>\n",
       "      <td>Andaman and Nicobar Islands</td>\n",
       "      <td>33</td>\n",
       "      <td>1</td>\n",
       "      <td>32</td>\n",
       "      <td>0</td>\n",
       "      <td>0.000000</td>\n",
       "      <td>0.969697</td>\n",
       "    </tr>\n",
       "    <tr>\n",
       "      <td>2</td>\n",
       "      <td>3</td>\n",
       "      <td>Arunachal Pradesh</td>\n",
       "      <td>1</td>\n",
       "      <td>0</td>\n",
       "      <td>1</td>\n",
       "      <td>0</td>\n",
       "      <td>0.000000</td>\n",
       "      <td>1.000000</td>\n",
       "    </tr>\n",
       "    <tr>\n",
       "      <td>3</td>\n",
       "      <td>4</td>\n",
       "      <td>Assam</td>\n",
       "      <td>43</td>\n",
       "      <td>9</td>\n",
       "      <td>33</td>\n",
       "      <td>1</td>\n",
       "      <td>0.023256</td>\n",
       "      <td>0.767442</td>\n",
       "    </tr>\n",
       "    <tr>\n",
       "      <td>4</td>\n",
       "      <td>5</td>\n",
       "      <td>Bihar</td>\n",
       "      <td>517</td>\n",
       "      <td>396</td>\n",
       "      <td>117</td>\n",
       "      <td>4</td>\n",
       "      <td>0.007737</td>\n",
       "      <td>0.226306</td>\n",
       "    </tr>\n",
       "    <tr>\n",
       "      <td>5</td>\n",
       "      <td>6</td>\n",
       "      <td>Chandigarh</td>\n",
       "      <td>97</td>\n",
       "      <td>77</td>\n",
       "      <td>19</td>\n",
       "      <td>1</td>\n",
       "      <td>0.010309</td>\n",
       "      <td>0.195876</td>\n",
       "    </tr>\n",
       "    <tr>\n",
       "      <td>6</td>\n",
       "      <td>7</td>\n",
       "      <td>Chhattisgarh</td>\n",
       "      <td>57</td>\n",
       "      <td>21</td>\n",
       "      <td>36</td>\n",
       "      <td>0</td>\n",
       "      <td>0.000000</td>\n",
       "      <td>0.631579</td>\n",
       "    </tr>\n",
       "    <tr>\n",
       "      <td>7</td>\n",
       "      <td>8</td>\n",
       "      <td>Delhi</td>\n",
       "      <td>4549</td>\n",
       "      <td>3123</td>\n",
       "      <td>1362</td>\n",
       "      <td>64</td>\n",
       "      <td>0.014069</td>\n",
       "      <td>0.299406</td>\n",
       "    </tr>\n",
       "    <tr>\n",
       "      <td>8</td>\n",
       "      <td>9</td>\n",
       "      <td>Goa</td>\n",
       "      <td>7</td>\n",
       "      <td>0</td>\n",
       "      <td>7</td>\n",
       "      <td>0</td>\n",
       "      <td>0.000000</td>\n",
       "      <td>1.000000</td>\n",
       "    </tr>\n",
       "    <tr>\n",
       "      <td>9</td>\n",
       "      <td>10</td>\n",
       "      <td>Gujarat</td>\n",
       "      <td>5428</td>\n",
       "      <td>4096</td>\n",
       "      <td>1042</td>\n",
       "      <td>290</td>\n",
       "      <td>0.053427</td>\n",
       "      <td>0.191968</td>\n",
       "    </tr>\n",
       "  </tbody>\n",
       "</table>\n",
       "</div>"
      ],
      "text/plain": [
       "   S. No.           Name of State / UT  Total Confirmed cases  Active  \\\n",
       "0       1               Andhra Pradesh                   1583    1062   \n",
       "1       2  Andaman and Nicobar Islands                     33       1   \n",
       "2       3            Arunachal Pradesh                      1       0   \n",
       "3       4                        Assam                     43       9   \n",
       "4       5                        Bihar                    517     396   \n",
       "5       6                   Chandigarh                     97      77   \n",
       "6       7                 Chhattisgarh                     57      21   \n",
       "7       8                        Delhi                   4549    3123   \n",
       "8       9                          Goa                      7       0   \n",
       "9      10                      Gujarat                   5428    4096   \n",
       "\n",
       "   Cured/Discharged/Migrated  Deaths  Fatality rate  Mortality Rate  \n",
       "0                        488      33       0.020846        0.308275  \n",
       "1                         32       0       0.000000        0.969697  \n",
       "2                          1       0       0.000000        1.000000  \n",
       "3                         33       1       0.023256        0.767442  \n",
       "4                        117       4       0.007737        0.226306  \n",
       "5                         19       1       0.010309        0.195876  \n",
       "6                         36       0       0.000000        0.631579  \n",
       "7                       1362      64       0.014069        0.299406  \n",
       "8                          7       0       0.000000        1.000000  \n",
       "9                       1042     290       0.053427        0.191968  "
      ]
     },
     "execution_count": 29,
     "metadata": {},
     "output_type": "execute_result"
    }
   ],
   "source": [
    "mortality_more_than_mean = file.loc[file[\"Mortality Rate\"] > 0.01966]\n",
    "print('The states with mortality more than mean: ',  sep = '\\n')\n",
    "mortality_more_than_mean.head(10)"
   ]
  }
 ],
 "metadata": {
  "kernelspec": {
   "display_name": "Python 3",
   "language": "python",
   "name": "python3"
  },
  "language_info": {
   "codemirror_mode": {
    "name": "ipython",
    "version": 3
   },
   "file_extension": ".py",
   "mimetype": "text/x-python",
   "name": "python",
   "nbconvert_exporter": "python",
   "pygments_lexer": "ipython3",
   "version": "3.7.4"
  },
  "toc": {
   "base_numbering": 1,
   "nav_menu": {},
   "number_sections": true,
   "sideBar": true,
   "skip_h1_title": false,
   "title_cell": "Table of Contents",
   "title_sidebar": "Contents",
   "toc_cell": false,
   "toc_position": {},
   "toc_section_display": true,
   "toc_window_display": false
  },
  "varInspector": {
   "cols": {
    "lenName": 16,
    "lenType": 16,
    "lenVar": 40
   },
   "kernels_config": {
    "python": {
     "delete_cmd_postfix": "",
     "delete_cmd_prefix": "del ",
     "library": "var_list.py",
     "varRefreshCmd": "print(var_dic_list())"
    },
    "r": {
     "delete_cmd_postfix": ") ",
     "delete_cmd_prefix": "rm(",
     "library": "var_list.r",
     "varRefreshCmd": "cat(var_dic_list()) "
    }
   },
   "types_to_exclude": [
    "module",
    "function",
    "builtin_function_or_method",
    "instance",
    "_Feature"
   ],
   "window_display": false
  }
 },
 "nbformat": 4,
 "nbformat_minor": 2
}
