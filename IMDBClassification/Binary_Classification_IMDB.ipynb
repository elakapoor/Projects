{
 "cells": [
  {
   "cell_type": "code",
   "execution_count": 1,
   "metadata": {},
   "outputs": [],
   "source": [
    "%matplotlib inline\n",
    "import seaborn as sns\n",
    "import matplotlib.pyplot as plt\n",
    "import warnings\n",
    "warnings.simplefilter('ignore')\n",
    "sns.set(rc={'figure.figsize' : (12, 6)})\n",
    "sns.set_style(\"darkgrid\", {'axes.grid' : True})\n",
    "import skimage\n",
    "\n",
    "import tensorflow as tf\n",
    "from tensorflow import keras"
   ]
  },
  {
   "cell_type": "code",
   "execution_count": 3,
   "metadata": {},
   "outputs": [
    {
     "data": {
      "text/html": [
       "<div>\n",
       "<style scoped>\n",
       "    .dataframe tbody tr th:only-of-type {\n",
       "        vertical-align: middle;\n",
       "    }\n",
       "\n",
       "    .dataframe tbody tr th {\n",
       "        vertical-align: top;\n",
       "    }\n",
       "\n",
       "    .dataframe thead th {\n",
       "        text-align: right;\n",
       "    }\n",
       "</style>\n",
       "<table border=\"1\" class=\"dataframe\">\n",
       "  <thead>\n",
       "    <tr style=\"text-align: right;\">\n",
       "      <th></th>\n",
       "      <th>review</th>\n",
       "      <th>sentiment</th>\n",
       "    </tr>\n",
       "  </thead>\n",
       "  <tbody>\n",
       "    <tr>\n",
       "      <td>0</td>\n",
       "      <td>One of the other reviewers has mentioned that ...</td>\n",
       "      <td>positive</td>\n",
       "    </tr>\n",
       "    <tr>\n",
       "      <td>1</td>\n",
       "      <td>A wonderful little production. &lt;br /&gt;&lt;br /&gt;The...</td>\n",
       "      <td>positive</td>\n",
       "    </tr>\n",
       "    <tr>\n",
       "      <td>2</td>\n",
       "      <td>I thought this was a wonderful way to spend ti...</td>\n",
       "      <td>positive</td>\n",
       "    </tr>\n",
       "    <tr>\n",
       "      <td>3</td>\n",
       "      <td>Basically there's a family where a little boy ...</td>\n",
       "      <td>negative</td>\n",
       "    </tr>\n",
       "    <tr>\n",
       "      <td>4</td>\n",
       "      <td>Petter Mattei's \"Love in the Time of Money\" is...</td>\n",
       "      <td>positive</td>\n",
       "    </tr>\n",
       "  </tbody>\n",
       "</table>\n",
       "</div>"
      ],
      "text/plain": [
       "                                              review sentiment\n",
       "0  One of the other reviewers has mentioned that ...  positive\n",
       "1  A wonderful little production. <br /><br />The...  positive\n",
       "2  I thought this was a wonderful way to spend ti...  positive\n",
       "3  Basically there's a family where a little boy ...  negative\n",
       "4  Petter Mattei's \"Love in the Time of Money\" is...  positive"
      ]
     },
     "execution_count": 3,
     "metadata": {},
     "output_type": "execute_result"
    }
   ],
   "source": [
    "import pandas as pd\n",
    "\n",
    "df = pd.read_csv('IMDB.csv', sep = ',')\n",
    "df.head()"
   ]
  },
  {
   "cell_type": "code",
   "execution_count": 3,
   "metadata": {},
   "outputs": [
    {
     "data": {
      "text/plain": [
       "(50000, 2)"
      ]
     },
     "execution_count": 3,
     "metadata": {},
     "output_type": "execute_result"
    }
   ],
   "source": [
    "df.shape"
   ]
  },
  {
   "cell_type": "code",
   "execution_count": 4,
   "metadata": {},
   "outputs": [
    {
     "name": "stdout",
     "output_type": "stream",
     "text": [
      "<class 'pandas.core.frame.DataFrame'>\n",
      "RangeIndex: 50000 entries, 0 to 49999\n",
      "Data columns (total 2 columns):\n",
      "review       50000 non-null object\n",
      "sentiment    50000 non-null object\n",
      "dtypes: object(2)\n",
      "memory usage: 781.4+ KB\n"
     ]
    }
   ],
   "source": [
    "df.info()"
   ]
  },
  {
   "cell_type": "code",
   "execution_count": 5,
   "metadata": {},
   "outputs": [
    {
     "data": {
      "text/plain": [
       "positive    25000\n",
       "negative    25000\n",
       "Name: sentiment, dtype: int64"
      ]
     },
     "execution_count": 5,
     "metadata": {},
     "output_type": "execute_result"
    }
   ],
   "source": [
    "df.sentiment.value_counts()"
   ]
  },
  {
   "cell_type": "code",
   "execution_count": 6,
   "metadata": {},
   "outputs": [
    {
     "data": {
      "text/html": [
       "<div>\n",
       "<style scoped>\n",
       "    .dataframe tbody tr th:only-of-type {\n",
       "        vertical-align: middle;\n",
       "    }\n",
       "\n",
       "    .dataframe tbody tr th {\n",
       "        vertical-align: top;\n",
       "    }\n",
       "\n",
       "    .dataframe thead th {\n",
       "        text-align: right;\n",
       "    }\n",
       "</style>\n",
       "<table border=\"1\" class=\"dataframe\">\n",
       "  <thead>\n",
       "    <tr style=\"text-align: right;\">\n",
       "      <th></th>\n",
       "      <th>review</th>\n",
       "      <th>sentiment</th>\n",
       "    </tr>\n",
       "  </thead>\n",
       "  <tbody>\n",
       "    <tr>\n",
       "      <td>0</td>\n",
       "      <td>One of the other reviewers has mentioned that ...</td>\n",
       "      <td>1</td>\n",
       "    </tr>\n",
       "    <tr>\n",
       "      <td>1</td>\n",
       "      <td>A wonderful little production. &lt;br /&gt;&lt;br /&gt;The...</td>\n",
       "      <td>1</td>\n",
       "    </tr>\n",
       "    <tr>\n",
       "      <td>2</td>\n",
       "      <td>I thought this was a wonderful way to spend ti...</td>\n",
       "      <td>1</td>\n",
       "    </tr>\n",
       "    <tr>\n",
       "      <td>3</td>\n",
       "      <td>Basically there's a family where a little boy ...</td>\n",
       "      <td>0</td>\n",
       "    </tr>\n",
       "    <tr>\n",
       "      <td>4</td>\n",
       "      <td>Petter Mattei's \"Love in the Time of Money\" is...</td>\n",
       "      <td>1</td>\n",
       "    </tr>\n",
       "  </tbody>\n",
       "</table>\n",
       "</div>"
      ],
      "text/plain": [
       "                                              review  sentiment\n",
       "0  One of the other reviewers has mentioned that ...          1\n",
       "1  A wonderful little production. <br /><br />The...          1\n",
       "2  I thought this was a wonderful way to spend ti...          1\n",
       "3  Basically there's a family where a little boy ...          0\n",
       "4  Petter Mattei's \"Love in the Time of Money\" is...          1"
      ]
     },
     "execution_count": 6,
     "metadata": {},
     "output_type": "execute_result"
    }
   ],
   "source": [
    "# Encode labels: each label is an integer value of either 0 or 1, \n",
    "#where 0 is a negative review, and 1 is a positive review.\n",
    "\n",
    "from sklearn import preprocessing\n",
    "\n",
    "label_encoder = preprocessing.LabelEncoder()\n",
    "df['sentiment'] = label_encoder.fit_transform(df['sentiment'])\n",
    "df.head()\n"
   ]
  },
  {
   "cell_type": "code",
   "execution_count": 7,
   "metadata": {},
   "outputs": [
    {
     "name": "stdout",
     "output_type": "stream",
     "text": [
      "(50000, 2)\n"
     ]
    }
   ],
   "source": [
    "print(df.shape)"
   ]
  },
  {
   "cell_type": "code",
   "execution_count": 8,
   "metadata": {},
   "outputs": [
    {
     "data": {
      "image/png": "[encoded data removed]",
      "text/plain": [
       "<Figure size 720x432 with 1 Axes>"
      ]
     },
     "metadata": {
      "needs_background": "light"
     },
     "output_type": "display_data"
    }
   ],
   "source": [
    "# Now, let's see the average number of words per sample\n",
    "plt.figure(figsize=(10, 6))\n",
    "\n",
    "# Here 50 is bin size\n",
    "plt.hist([len(sample) for sample in list(df['review'])], 50)\n",
    "\n",
    "plt.xlabel('Length of samples')\n",
    "plt.ylabel('Number of samples')\n",
    "plt.title('Sample length distribution')\n",
    "plt.show()\n"
   ]
  },
  {
   "cell_type": "markdown",
   "metadata": {},
   "source": [
    "\n",
    "tokenizing strings and giving an integer id for each possible token, for instance by using white-spaces and punctuation as token separators. counting the occurrences of tokens in each document. normalizing and weighting with diminishing importance tokens that occur in the majority of samples / documents. In this scheme, features and samples are defined as follows:\n",
    "\n",
    "each individual token occurrence frequency (normalized or not) is treated as a feature. the vector of all the token frequencies for a given document is considered a multivariate sample. A corpus of documents can thus be represented by a matrix with one row per document and one column per token (e.g. word) occurring in the corpus.\n",
    "\n",
    "We call vectorization the general process of turning a collection of text documents into numerical feature vectors. This specific strategy (tokenization, counting and normalization) is called the Bag of Words or “Bag of n-grams” representation. Documents are described by word occurrences while completely ignoring the relative position information of the words in the document.\n",
    "\n",
    "Now use the CountVectorizer provided by the scikit-learn library to vectorize sentences. It takes the words of each sentence and creates a vocabulary of all the unique words in the sentences. This vocabulary can then be used to create a feature vector of the count of the words:"
   ]
  },
  {
   "cell_type": "code",
   "execution_count": 9,
   "metadata": {},
   "outputs": [],
   "source": [
    "from sklearn.feature_extraction.text import CountVectorizer\n",
    "\n",
    "#CountVectorizer()- Convert a collection of text documents to a matrix of token counts\n",
    "vectorizer = CountVectorizer()\n",
    "vect_texts = vectorizer.fit_transform(list(df['review']))\n",
    "\n",
    "all_ngrams = vectorizer.get_feature_names()\n",
    "num_ngrams = min(50, len(all_ngrams))\n",
    "all_counts = vect_texts.sum(axis=0).tolist()[0]\n",
    "\n",
    "all_ngrams, all_counts = zip(*[(n, c) for c, n in sorted(zip(all_counts, all_ngrams), \n",
    "                                                         reverse=True)])\n",
    "ngrams = all_ngrams[:num_ngrams]\n",
    "counts = all_counts[:num_ngrams]\n",
    "\n",
    "idx = np.arange(num_ngrams)"
   ]
  },
  {
   "cell_type": "code",
   "execution_count": 10,
   "metadata": {},
   "outputs": [
    {
     "data": {
      "image/png": "[encoded data removed]",
      "text/plain": [
       "<Figure size 2160x2160 with 1 Axes>"
      ]
     },
     "metadata": {
      "needs_background": "light"
     },
     "output_type": "display_data"
    }
   ],
   "source": [
    "# Let's now plot a frequency distribution plot of the most seen words in the corpus.\n",
    "plt.figure(figsize=(30, 30))\n",
    "plt.bar(idx, counts, width=0.8)\n",
    "plt.xlabel('N-grams')\n",
    "plt.ylabel('Frequencies')\n",
    "plt.title('Frequency distribution of ngrams')\n",
    "plt.xticks(idx, ngrams, rotation=45)\n",
    "plt.show()"
   ]
  },
  {
   "cell_type": "code",
   "execution_count": 11,
   "metadata": {},
   "outputs": [],
   "source": [
    "from sklearn.feature_extraction.text import TfidfVectorizer\n",
    "from sklearn.feature_selection import SelectKBest\n",
    "from sklearn.feature_selection import f_classif\n",
    "NGRAM_RANGE = (1, 2)\n",
    "TOP_K = 20000\n",
    "TOKEN_MODE = 'word'\n",
    "MIN_DOC_FREQ = 2\n",
    "\n",
    "def ngram_vectorize(texts, labels):\n",
    "    kwargs = {\n",
    "        'ngram_range' : NGRAM_RANGE,\n",
    "        'dtype' : 'int32',\n",
    "        'strip_accents' : 'unicode',\n",
    "        'decode_error' : 'replace',\n",
    "        'analyzer' : TOKEN_MODE,\n",
    "        'min_df' : MIN_DOC_FREQ,\n",
    "    }\n",
    "    # Learn Vocab from train texts and vectorize train and val sets\n",
    "    tfidf_vectorizer = TfidfVectorizer(**kwargs)\n",
    "    transformed_texts = tfidf_vectorizer.fit_transform(texts)\n",
    "    \n",
    "    # Select best k features, with feature importance measured by f_classif\n",
    "    # Set k as 20000 or (if number of ngrams is less) number of ngrams   \n",
    "    selector = SelectKBest(f_classif, k=min(TOP_K, transformed_texts.shape[1]))\n",
    "    selector.fit(transformed_texts, labels)\n",
    "    transformed_texts = selector.transform(transformed_texts).astype('float32')\n",
    "    return transformed_texts\n",
    "# Vectorize the data\n",
    "vect_data = ngram_vectorize(df['review'], df['sentiment'])"
   ]
  },
  {
   "cell_type": "code",
   "execution_count": 12,
   "metadata": {},
   "outputs": [
    {
     "data": {
      "text/plain": [
       "(50000, 20000)"
      ]
     },
     "execution_count": 12,
     "metadata": {},
     "output_type": "execute_result"
    }
   ],
   "source": [
    "vect_data.shape"
   ]
  },
  {
   "cell_type": "code",
   "execution_count": 13,
   "metadata": {},
   "outputs": [
    {
     "data": {
      "text/plain": [
       "(50000, 101895)"
      ]
     },
     "execution_count": 13,
     "metadata": {},
     "output_type": "execute_result"
    }
   ],
   "source": [
    "tfidf = TfidfVectorizer()\n",
    "tr_texts = tfidf.fit_transform(df['review'])\n",
    "tr_texts.shape"
   ]
  },
  {
   "cell_type": "code",
   "execution_count": 15,
   "metadata": {},
   "outputs": [
    {
     "data": {
      "text/plain": [
       "<50000x101895 sparse matrix of type '<class 'numpy.float64'>'\n",
       "\twith 6826529 stored elements in Compressed Sparse Row format>"
      ]
     },
     "execution_count": 15,
     "metadata": {},
     "output_type": "execute_result"
    }
   ],
   "source": [
    "tr_texts"
   ]
  },
  {
   "cell_type": "code",
   "execution_count": 16,
   "metadata": {},
   "outputs": [
    {
     "name": "stdout",
     "output_type": "stream",
     "text": [
      "The shape of the features of the dataset is:  (50000, 20000)\n",
      "The shape of the labels of the dataset is:  (50000,)\n"
     ]
    }
   ],
   "source": [
    "# Split data to label (y) and features (X)\n",
    "\n",
    "# There are 50000 datapoints with 20000 feature each.\n",
    "X = vect_data.toarray()\n",
    "print('The shape of the features of the dataset is: ',X.shape)\n",
    "\n",
    "# there are 50000 labels that are under sentiment column.\n",
    "y = (np.array(df['sentiment']))\n",
    "print('The shape of the labels of the dataset is: ',y.shape)"
   ]
  },
  {
   "cell_type": "code",
   "execution_count": 17,
   "metadata": {},
   "outputs": [
    {
     "name": "stdout",
     "output_type": "stream",
     "text": [
      "Train features shape: (40000, 20000), \n",
      "Test features shape: (10000, 20000)\n",
      "Train label shape: (40000,), \n",
      "Test label shape: (10000,)\n"
     ]
    }
   ],
   "source": [
    "from sklearn.model_selection import train_test_split\n",
    "\n",
    "# Here we split data to training and testing parts\n",
    "X_train, X_test, y_train, y_test = train_test_split(X, y, test_size=0.2, random_state=13)\n",
    "print(\"Train features shape: {0}, \\nTest features shape: {1}\".format(X_train.shape, \n",
    "                                                                   X_test.shape))\n",
    "print(\"Train label shape: {0}, \\nTest label shape: {1}\".format(y_train.shape, \n",
    "                                                                   y_test.shape))\n",
    "\n",
    "#The testing label is 10000 and the training label in 40000 and each has 20000 features \n",
    "#related to it."
   ]
  },
  {
   "cell_type": "code",
   "execution_count": 18,
   "metadata": {},
   "outputs": [],
   "source": [
    "# For the validation purpose we are further dividing the feature training dataset into \n",
    "#validation and training dataset.\n",
    "x_val = X_train[:10000]\n",
    "train_X = X_train[10000:]"
   ]
  },
  {
   "cell_type": "code",
   "execution_count": 19,
   "metadata": {},
   "outputs": [],
   "source": [
    "# For the validation purpose we are further dividing the label training dataset into \n",
    "#validation and training dataset.\n",
    "y_val = y_train[:10000]\n",
    "train_y = y_train[10000:]"
   ]
  },
  {
   "cell_type": "code",
   "execution_count": 20,
   "metadata": {},
   "outputs": [
    {
     "name": "stdout",
     "output_type": "stream",
     "text": [
      "(20000,)\n"
     ]
    },
    {
     "name": "stderr",
     "output_type": "stream",
     "text": [
      "Using TensorFlow backend.\n"
     ]
    }
   ],
   "source": [
    "from keras import models\n",
    "from keras import layers\n",
    "from keras.utils import to_categorical\n",
    "\n",
    "input_shape_of_feature = X_train.shape[1:]\n",
    "print(input_shape_of_feature)\n",
    "\n",
    "model = models.Sequential()\n",
    "model.add(layers.Dense(16, activation='relu', input_shape= input_shape_of_feature))\n",
    "model.add(layers.Dense(16, activation='relu'))\n",
    "model.add(layers.Dense(1, activation='sigmoid'))"
   ]
  },
  {
   "cell_type": "code",
   "execution_count": 21,
   "metadata": {},
   "outputs": [
    {
     "name": "stdout",
     "output_type": "stream",
     "text": [
      "Train on 30000 samples, validate on 10000 samples\n",
      "Epoch 1/20\n",
      "30000/30000 [==============================] - 3s 107us/step - loss: 0.6050 - acc: 0.8440 - val_loss: 0.5089 - val_acc: 0.8767\n",
      "Epoch 2/20\n",
      "30000/30000 [==============================] - 2s 82us/step - loss: 0.4195 - acc: 0.9006 - val_loss: 0.3440 - val_acc: 0.9057\n",
      "Epoch 3/20\n",
      "30000/30000 [==============================] - 3s 86us/step - loss: 0.2789 - acc: 0.9216 - val_loss: 0.2489 - val_acc: 0.9180\n",
      "Epoch 4/20\n",
      "30000/30000 [==============================] - 3s 101us/step - loss: 0.2011 - acc: 0.9345 - val_loss: 0.2058 - val_acc: 0.9249\n",
      "Epoch 5/20\n",
      "30000/30000 [==============================] - 3s 102us/step - loss: 0.1592 - acc: 0.9447 - val_loss: 0.1883 - val_acc: 0.9294\n",
      "Epoch 6/20\n",
      "30000/30000 [==============================] - 2s 76us/step - loss: 0.1329 - acc: 0.9532 - val_loss: 0.1794 - val_acc: 0.9306\n",
      "Epoch 7/20\n",
      "30000/30000 [==============================] - 2s 72us/step - loss: 0.1145 - acc: 0.9594 - val_loss: 0.1768 - val_acc: 0.9331\n",
      "Epoch 8/20\n",
      "30000/30000 [==============================] - 2s 70us/step - loss: 0.0995 - acc: 0.9658 - val_loss: 0.1773 - val_acc: 0.9349\n",
      "Epoch 9/20\n",
      "30000/30000 [==============================] - 2s 69us/step - loss: 0.0869 - acc: 0.9710 - val_loss: 0.1797 - val_acc: 0.9337\n",
      "Epoch 10/20\n",
      "30000/30000 [==============================] - 2s 78us/step - loss: 0.0758 - acc: 0.9752 - val_loss: 0.1838 - val_acc: 0.9327\n",
      "Epoch 11/20\n",
      "30000/30000 [==============================] - 3s 86us/step - loss: 0.0662 - acc: 0.9794 - val_loss: 0.1891 - val_acc: 0.9331\n",
      "Epoch 12/20\n",
      "30000/30000 [==============================] - 2s 78us/step - loss: 0.0573 - acc: 0.9832 - val_loss: 0.1968 - val_acc: 0.9323\n",
      "Epoch 13/20\n",
      "30000/30000 [==============================] - 3s 88us/step - loss: 0.0496 - acc: 0.9862 - val_loss: 0.2052 - val_acc: 0.9309\n",
      "Epoch 14/20\n",
      "30000/30000 [==============================] - 3s 90us/step - loss: 0.0427 - acc: 0.9884 - val_loss: 0.2147 - val_acc: 0.9292\n",
      "Epoch 15/20\n",
      "30000/30000 [==============================] - 3s 100us/step - loss: 0.0365 - acc: 0.9907 - val_loss: 0.2241 - val_acc: 0.9286\n",
      "Epoch 16/20\n",
      "30000/30000 [==============================] - 3s 95us/step - loss: 0.0307 - acc: 0.9923 - val_loss: 0.2359 - val_acc: 0.9285\n",
      "Epoch 17/20\n",
      "30000/30000 [==============================] - 3s 85us/step - loss: 0.0261 - acc: 0.9938 - val_loss: 0.2488 - val_acc: 0.9277\n",
      "Epoch 18/20\n",
      "30000/30000 [==============================] - 2s 72us/step - loss: 0.0216 - acc: 0.9954 - val_loss: 0.2628 - val_acc: 0.9256\n",
      "Epoch 19/20\n",
      "30000/30000 [==============================] - 2s 71us/step - loss: 0.0176 - acc: 0.9964 - val_loss: 0.2789 - val_acc: 0.9249\n",
      "Epoch 20/20\n",
      "30000/30000 [==============================] - 2s 69us/step - loss: 0.0144 - acc: 0.9974 - val_loss: 0.2944 - val_acc: 0.9231\n"
     ]
    }
   ],
   "source": [
    "model.compile(optimizer='rmsprop', loss='binary_crossentropy', metrics=['acc'])\n",
    "\n",
    "# By using the fit method we are traing the model using train_X, train_y and validating it \n",
    "# on x_val, y_val which will give us 'val_loss', 'val_acc', 'training_loss', 'training_acc'\n",
    "model_history = model.fit(train_X, train_y, epochs=20, batch_size=512,\n",
    "validation_data=(x_val, y_val))"
   ]
  },
  {
   "cell_type": "code",
   "execution_count": 22,
   "metadata": {},
   "outputs": [
    {
     "data": {
      "text/plain": [
       "dict_keys(['val_loss', 'val_acc', 'loss', 'acc'])"
      ]
     },
     "execution_count": 22,
     "metadata": {},
     "output_type": "execute_result"
    }
   ],
   "source": [
    "model_history_dict = model_history.history\n",
    "model_history_dict.keys()"
   ]
  },
  {
   "cell_type": "code",
   "execution_count": 24,
   "metadata": {},
   "outputs": [
    {
     "data": {
      "image/png": "[encoded data removed]",
      "text/plain": [
       "<Figure size 432x288 with 1 Axes>"
      ]
     },
     "metadata": {
      "needs_background": "light"
     },
     "output_type": "display_data"
    }
   ],
   "source": [
    "import matplotlib.pyplot as plt\n",
    "\n",
    "#model_history_dict = model_history.history\n",
    "training_loss_values = model_history_dict['loss']\n",
    "val_loss_values = model_history_dict['val_loss']\n",
    "\n",
    "epochs = range(1, len(model_history_dict['acc']) + 1)\n",
    "\n",
    "plt.plot(epochs, training_loss_values, 'bo', label='Training loss')\n",
    "plt.plot(epochs, val_loss_values, 'b', label='Validation loss')\n",
    "plt.title('Training and validation loss')\n",
    "plt.xlabel('Epochs')\n",
    "plt.ylabel('Loss')\n",
    "plt.legend()\n",
    "plt.show()"
   ]
  },
  {
   "cell_type": "code",
   "execution_count": 25,
   "metadata": {},
   "outputs": [
    {
     "data": {
      "image/png": "[encoded data removed]",
      "text/plain": [
       "<Figure size 432x288 with 1 Axes>"
      ]
     },
     "metadata": {
      "needs_background": "light"
     },
     "output_type": "display_data"
    }
   ],
   "source": [
    "acc_values = model_history_dict['acc']\n",
    "val_acc_values = model_history_dict['val_acc']\n",
    "\n",
    "plt.plot(epochs, model_history_dict['acc'], 'bo', label='Training acc')\n",
    "plt.plot(epochs, model_history_dict['val_acc'], 'b', label='Validation acc')\n",
    "plt.title('Training and validation accuracy')\n",
    "plt.xlabel('Epochs')\n",
    "plt.ylabel('Loss')\n",
    "plt.legend()\n",
    "plt.show()"
   ]
  },
  {
   "cell_type": "markdown",
   "metadata": {},
   "source": [
    "There is overfitting after the second epoch, you’re overoptimizing on the training data, and you end up learning representations that are specific to the training data and don’t generalize to data outside of the training set. In this case, to prevent overfitting, you could stop training after three epochs."
   ]
  },
  {
   "cell_type": "code",
   "execution_count": 26,
   "metadata": {},
   "outputs": [
    {
     "name": "stdout",
     "output_type": "stream",
     "text": [
      "Epoch 1/4\n",
      "40000/40000 [==============================] - 3s 80us/step - loss: 0.5769 - accuracy: 0.8677\n",
      "Epoch 2/4\n",
      "40000/40000 [==============================] - 3s 77us/step - loss: 0.3385 - accuracy: 0.9110\n",
      "Epoch 3/4\n",
      "40000/40000 [==============================] - 4s 90us/step - loss: 0.2142 - accuracy: 0.9284\n",
      "Epoch 4/4\n",
      "40000/40000 [==============================] - 3s 77us/step - loss: 0.1627 - accuracy: 0.9419\n",
      "10000/10000 [==============================] - 1s 69us/step\n"
     ]
    }
   ],
   "source": [
    "from keras import models\n",
    "from keras import layers\n",
    "from keras.utils import to_categorical\n",
    "\n",
    "input_shape = X_train.shape[1:]\n",
    "\n",
    "model = models.Sequential()\n",
    "model.add(layers.Dense(16, activation='relu', input_shape= input_shape))\n",
    "model.add(layers.Dense(16, activation='relu'))\n",
    "model.add(layers.Dense(1, activation='sigmoid'))\n",
    "\n",
    "model.compile(optimizer='rmsprop',\n",
    "loss='binary_crossentropy',\n",
    "metrics=['accuracy'])\n",
    "\n",
    "model.fit(X_train, y_train, epochs=4,batch_size=512)\n",
    "\n",
    "results = model.evaluate(X_test, y_test)"
   ]
  },
  {
   "cell_type": "code",
   "execution_count": 27,
   "metadata": {},
   "outputs": [
    {
     "data": {
      "text/plain": [
       "[0.18441611107587813, 0.9297999739646912]"
      ]
     },
     "execution_count": 27,
     "metadata": {},
     "output_type": "execute_result"
    }
   ],
   "source": [
    "results"
   ]
  },
  {
   "cell_type": "code",
   "execution_count": 30,
   "metadata": {},
   "outputs": [
    {
     "name": "stdout",
     "output_type": "stream",
     "text": [
      "Epoch 1/4\n",
      "40000/40000 [==============================] - 3s 70us/step - loss: 0.2500 - accuracy: 0.4963\n",
      "Epoch 2/4\n",
      "40000/40000 [==============================] - 2s 62us/step - loss: 0.2500 - accuracy: 0.5098\n",
      "Epoch 3/4\n",
      "40000/40000 [==============================] - 3s 63us/step - loss: 0.2500 - accuracy: 0.5210\n",
      "Epoch 4/4\n",
      "40000/40000 [==============================] - 3s 66us/step - loss: 0.2500 - accuracy: 0.5265\n",
      "10000/10000 [==============================] - 1s 68us/step\n"
     ]
    }
   ],
   "source": [
    "# Using different optimizer and loss for comparision.\n",
    "\n",
    "from keras import models\n",
    "from keras import layers\n",
    "from keras.utils import to_categorical\n",
    "\n",
    "input_shape = X_train.shape[1:]\n",
    "\n",
    "model = models.Sequential()\n",
    "model.add(layers.Dense(16, activation='relu', input_shape= input_shape))\n",
    "model.add(layers.Dense(16, activation='relu'))\n",
    "model.add(layers.Dense(1, activation='sigmoid'))\n",
    "\n",
    "model.compile(optimizer='sgd',loss='mse', metrics=['accuracy'])\n",
    "\n",
    "model.fit(X_train, y_train, epochs=4,batch_size=512)\n",
    "\n",
    "results = model.evaluate(X_test, y_test)"
   ]
  },
  {
   "cell_type": "code",
   "execution_count": 31,
   "metadata": {},
   "outputs": [
    {
     "data": {
      "text/plain": [
       "[0.24996041910648345, 0.5285999774932861]"
      ]
     },
     "execution_count": 31,
     "metadata": {},
     "output_type": "execute_result"
    }
   ],
   "source": [
    "results"
   ]
  },
  {
   "cell_type": "code",
   "execution_count": null,
   "metadata": {},
   "outputs": [],
   "source": []
  }
 ],
 "metadata": {
  "kernelspec": {
   "display_name": "Python 3",
   "language": "python",
   "name": "python3"
  },
  "language_info": {
   "codemirror_mode": {
    "name": "ipython",
    "version": 3
   },
   "file_extension": ".py",
   "mimetype": "text/x-python",
   "name": "python",
   "nbconvert_exporter": "python",
   "pygments_lexer": "ipython3",
   "version": "3.7.4"
  },
  "toc": {
   "base_numbering": 1,
   "nav_menu": {},
   "number_sections": true,
   "sideBar": true,
   "skip_h1_title": false,
   "title_cell": "Table of Contents",
   "title_sidebar": "Contents",
   "toc_cell": false,
   "toc_position": {},
   "toc_section_display": true,
   "toc_window_display": false
  },
  "varInspector": {
   "cols": {
    "lenName": 16,
    "lenType": 16,
    "lenVar": 40
   },
   "kernels_config": {
    "python": {
     "delete_cmd_postfix": "",
     "delete_cmd_prefix": "del ",
     "library": "var_list.py",
     "varRefreshCmd": "print(var_dic_list())"
    },
    "r": {
     "delete_cmd_postfix": ") ",
     "delete_cmd_prefix": "rm(",
     "library": "var_list.r",
     "varRefreshCmd": "cat(var_dic_list()) "
    }
   },
   "types_to_exclude": [
    "module",
    "function",
    "builtin_function_or_method",
    "instance",
    "_Feature"
   ],
   "window_display": false
  }
 },
 "nbformat": 4,
 "nbformat_minor": 2
}
