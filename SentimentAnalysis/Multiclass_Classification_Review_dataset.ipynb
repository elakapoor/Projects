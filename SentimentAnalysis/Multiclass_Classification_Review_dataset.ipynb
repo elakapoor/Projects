{
 "cells": [
  {
   "cell_type": "code",
   "execution_count": 1,
   "metadata": {},
   "outputs": [],
   "source": [
    "%matplotlib inline\n",
    "import seaborn as sns\n",
    "import matplotlib.pyplot as plt\n",
    "import warnings\n",
    "warnings.simplefilter('ignore')\n",
    "sns.set(rc={'figure.figsize' : (12, 6)})\n",
    "sns.set_style(\"darkgrid\", {'axes.grid' : True})\n",
    "import skimage\n",
    "\n",
    "import tensorflow as tf\n",
    "from tensorflow import keras"
   ]
  },
  {
   "cell_type": "code",
   "execution_count": 2,
   "metadata": {},
   "outputs": [
    {
     "data": {
      "text/html": [
       "<div>\n",
       "<style scoped>\n",
       "    .dataframe tbody tr th:only-of-type {\n",
       "        vertical-align: middle;\n",
       "    }\n",
       "\n",
       "    .dataframe tbody tr th {\n",
       "        vertical-align: top;\n",
       "    }\n",
       "\n",
       "    .dataframe thead th {\n",
       "        text-align: right;\n",
       "    }\n",
       "</style>\n",
       "<table border=\"1\" class=\"dataframe\">\n",
       "  <thead>\n",
       "    <tr style=\"text-align: right;\">\n",
       "      <th></th>\n",
       "      <th>PhraseId</th>\n",
       "      <th>SentenceId</th>\n",
       "      <th>Phrase</th>\n",
       "      <th>Sentiment</th>\n",
       "    </tr>\n",
       "  </thead>\n",
       "  <tbody>\n",
       "    <tr>\n",
       "      <td>0</td>\n",
       "      <td>1</td>\n",
       "      <td>1</td>\n",
       "      <td>A series of escapades demonstrating the adage ...</td>\n",
       "      <td>1</td>\n",
       "    </tr>\n",
       "    <tr>\n",
       "      <td>1</td>\n",
       "      <td>2</td>\n",
       "      <td>1</td>\n",
       "      <td>A series of escapades demonstrating the adage ...</td>\n",
       "      <td>2</td>\n",
       "    </tr>\n",
       "    <tr>\n",
       "      <td>2</td>\n",
       "      <td>3</td>\n",
       "      <td>1</td>\n",
       "      <td>A series</td>\n",
       "      <td>2</td>\n",
       "    </tr>\n",
       "    <tr>\n",
       "      <td>3</td>\n",
       "      <td>4</td>\n",
       "      <td>1</td>\n",
       "      <td>A</td>\n",
       "      <td>2</td>\n",
       "    </tr>\n",
       "    <tr>\n",
       "      <td>4</td>\n",
       "      <td>5</td>\n",
       "      <td>1</td>\n",
       "      <td>series</td>\n",
       "      <td>2</td>\n",
       "    </tr>\n",
       "  </tbody>\n",
       "</table>\n",
       "</div>"
      ],
      "text/plain": [
       "   PhraseId  SentenceId                                             Phrase  \\\n",
       "0         1           1  A series of escapades demonstrating the adage ...   \n",
       "1         2           1  A series of escapades demonstrating the adage ...   \n",
       "2         3           1                                           A series   \n",
       "3         4           1                                                  A   \n",
       "4         5           1                                             series   \n",
       "\n",
       "   Sentiment  \n",
       "0          1  \n",
       "1          2  \n",
       "2          2  \n",
       "3          2  \n",
       "4          2  "
      ]
     },
     "execution_count": 2,
     "metadata": {},
     "output_type": "execute_result"
    }
   ],
   "source": [
    "import pandas as pd\n",
    "import numpy as np\n",
    "\n",
    "df = pd.read_csv('train.tsv', delimiter = '\\t')\n",
    "df.head()"
   ]
  },
  {
   "cell_type": "code",
   "execution_count": 3,
   "metadata": {},
   "outputs": [
    {
     "data": {
      "text/html": [
       "<div>\n",
       "<style scoped>\n",
       "    .dataframe tbody tr th:only-of-type {\n",
       "        vertical-align: middle;\n",
       "    }\n",
       "\n",
       "    .dataframe tbody tr th {\n",
       "        vertical-align: top;\n",
       "    }\n",
       "\n",
       "    .dataframe thead th {\n",
       "        text-align: right;\n",
       "    }\n",
       "</style>\n",
       "<table border=\"1\" class=\"dataframe\">\n",
       "  <thead>\n",
       "    <tr style=\"text-align: right;\">\n",
       "      <th></th>\n",
       "      <th>Phrase</th>\n",
       "      <th>Sentiment</th>\n",
       "    </tr>\n",
       "  </thead>\n",
       "  <tbody>\n",
       "    <tr>\n",
       "      <td>0</td>\n",
       "      <td>A series of escapades demonstrating the adage ...</td>\n",
       "      <td>1</td>\n",
       "    </tr>\n",
       "    <tr>\n",
       "      <td>1</td>\n",
       "      <td>A series of escapades demonstrating the adage ...</td>\n",
       "      <td>2</td>\n",
       "    </tr>\n",
       "    <tr>\n",
       "      <td>2</td>\n",
       "      <td>A series</td>\n",
       "      <td>2</td>\n",
       "    </tr>\n",
       "    <tr>\n",
       "      <td>3</td>\n",
       "      <td>A</td>\n",
       "      <td>2</td>\n",
       "    </tr>\n",
       "    <tr>\n",
       "      <td>4</td>\n",
       "      <td>series</td>\n",
       "      <td>2</td>\n",
       "    </tr>\n",
       "  </tbody>\n",
       "</table>\n",
       "</div>"
      ],
      "text/plain": [
       "                                              Phrase  Sentiment\n",
       "0  A series of escapades demonstrating the adage ...          1\n",
       "1  A series of escapades demonstrating the adage ...          2\n",
       "2                                           A series          2\n",
       "3                                                  A          2\n",
       "4                                             series          2"
      ]
     },
     "execution_count": 3,
     "metadata": {},
     "output_type": "execute_result"
    }
   ],
   "source": [
    "df_1 = df.drop(columns=['PhraseId', 'SentenceId'])\n",
    "df_1.head()"
   ]
  },
  {
   "cell_type": "code",
   "execution_count": 4,
   "metadata": {},
   "outputs": [
    {
     "data": {
      "text/plain": [
       "(156060, 2)"
      ]
     },
     "execution_count": 4,
     "metadata": {},
     "output_type": "execute_result"
    }
   ],
   "source": [
    "df_1.shape"
   ]
  },
  {
   "cell_type": "code",
   "execution_count": 5,
   "metadata": {},
   "outputs": [
    {
     "name": "stdout",
     "output_type": "stream",
     "text": [
      "<class 'pandas.core.frame.DataFrame'>\n",
      "RangeIndex: 156060 entries, 0 to 156059\n",
      "Data columns (total 2 columns):\n",
      "Phrase       156060 non-null object\n",
      "Sentiment    156060 non-null int64\n",
      "dtypes: int64(1), object(1)\n",
      "memory usage: 2.4+ MB\n"
     ]
    }
   ],
   "source": [
    "df_1.info()"
   ]
  },
  {
   "cell_type": "code",
   "execution_count": 6,
   "metadata": {},
   "outputs": [
    {
     "data": {
      "text/plain": [
       "2    79582\n",
       "3    32927\n",
       "1    27273\n",
       "4     9206\n",
       "0     7072\n",
       "Name: Sentiment, dtype: int64"
      ]
     },
     "execution_count": 6,
     "metadata": {},
     "output_type": "execute_result"
    }
   ],
   "source": [
    "df_1.Sentiment.value_counts()"
   ]
  },
  {
   "cell_type": "code",
   "execution_count": 7,
   "metadata": {},
   "outputs": [
    {
     "name": "stdout",
     "output_type": "stream",
     "text": [
      "<class 'scipy.sparse.csr.csr_matrix'>\n",
      "(156060, 15240)\n"
     ]
    }
   ],
   "source": [
    "from sklearn.feature_extraction.text import CountVectorizer\n",
    "\n",
    "#CountVectorizer()- Convert a collection of text documents to a matrix of token counts\n",
    "vectorizer = CountVectorizer()\n",
    "vect_texts = vectorizer.fit_transform(list(df['Phrase']))\n",
    "print(type(vect_texts))\n",
    "print(vect_texts.shape)"
   ]
  },
  {
   "cell_type": "code",
   "execution_count": 8,
   "metadata": {},
   "outputs": [
    {
     "name": "stdout",
     "output_type": "stream",
     "text": [
      "The shape of the features of the dataset is:  (156060, 15240)\n",
      "The shape of the labels of the dataset is:  (156060,)\n"
     ]
    }
   ],
   "source": [
    "# Split data to label (y) and features (X)\n",
    "\n",
    "# There are 50000 datapoints with 20000 feature each.\n",
    "\n",
    "X = vect_texts.toarray()\n",
    "#X = vect_data.toarray()\n",
    "print('The shape of the features of the dataset is: ',X.shape)\n",
    "\n",
    "# there are 50000 labels that are under sentiment column.\n",
    "y = (np.array(df_1['Sentiment']))\n",
    "print('The shape of the labels of the dataset is: ',y.shape)"
   ]
  },
  {
   "cell_type": "code",
   "execution_count": 9,
   "metadata": {},
   "outputs": [
    {
     "name": "stdout",
     "output_type": "stream",
     "text": [
      "Train features shape: (124848, 15240), \n",
      "Test features shape: (31212, 15240)\n",
      "Train label shape: (124848,), \n",
      "Test label shape: (31212,)\n"
     ]
    }
   ],
   "source": [
    "from sklearn.model_selection import train_test_split\n",
    "\n",
    "# Here we split data to training and testing parts\n",
    "X_train, X_test, y_train, y_test = train_test_split(X, y, test_size=0.2, random_state=13)\n",
    "print(\"Train features shape: {0}, \\nTest features shape: {1}\".format(X_train.shape, \n",
    "                                                                   X_test.shape))\n",
    "print(\"Train label shape: {0}, \\nTest label shape: {1}\".format(y_train.shape, \n",
    "                                                                   y_test.shape))\n",
    "\n",
    "#The testing label is 10000 and the training label in 40000 and each has 20000 features \n",
    "#related to it."
   ]
  },
  {
   "cell_type": "code",
   "execution_count": 10,
   "metadata": {},
   "outputs": [
    {
     "name": "stderr",
     "output_type": "stream",
     "text": [
      "Using TensorFlow backend.\n"
     ]
    }
   ],
   "source": [
    "from keras.utils.np_utils import to_categorical\n",
    "\n",
    "#Since we have to categorize only the labels not the features into different classes we do \n",
    "#following peration only on the y.\n",
    "\n",
    "train_labels = to_categorical(y_train)\n",
    "test_labels = to_categorical(y_test)"
   ]
  },
  {
   "cell_type": "code",
   "execution_count": 11,
   "metadata": {},
   "outputs": [
    {
     "name": "stdout",
     "output_type": "stream",
     "text": [
      "(15240,)\n"
     ]
    }
   ],
   "source": [
    "from keras import models\n",
    "from keras import layers\n",
    "from keras.utils import to_categorical\n",
    "\n",
    "input_shape_of_feature = X_train.shape[1:]\n",
    "print(input_shape_of_feature)\n",
    "\n",
    "from keras import models\n",
    "from keras import layers\n",
    "model = models.Sequential()\n",
    "model.add(layers.Dense(46, activation='relu', input_shape=input_shape_of_feature))\n",
    "model.add(layers.Dense(46, activation='relu'))\n",
    "model.add(layers.Dense(5, activation='softmax'))"
   ]
  },
  {
   "cell_type": "code",
   "execution_count": 12,
   "metadata": {},
   "outputs": [],
   "source": [
    "model.compile(optimizer='rmsprop',\n",
    "loss='categorical_crossentropy',\n",
    "metrics=['accuracy'])"
   ]
  },
  {
   "cell_type": "code",
   "execution_count": 13,
   "metadata": {},
   "outputs": [],
   "source": [
    "# For the validation purpose we are further dividing the feature training dataset into \n",
    "#validation and training dataset.\n",
    "x_val = X_train[:1000]\n",
    "partial_x_train = X_train[1000:]\n",
    "\n",
    "# For the validation purpose we are further dividing the label training dataset into \n",
    "#validation and training dataset.\n",
    "y_val = train_labels[:1000]\n",
    "partial_y_train = train_labels[1000:]"
   ]
  },
  {
   "cell_type": "code",
   "execution_count": 14,
   "metadata": {},
   "outputs": [
    {
     "name": "stdout",
     "output_type": "stream",
     "text": [
      "Train on 123848 samples, validate on 1000 samples\n",
      "Epoch 1/20\n",
      "123848/123848 [==============================] - 32s 255us/step - loss: 1.0952 - accuracy: 0.5771 - val_loss: 0.9415 - val_accuracy: 0.6120\n",
      "Epoch 2/20\n",
      "123848/123848 [==============================] - 27s 222us/step - loss: 0.8405 - accuracy: 0.6652 - val_loss: 0.8978 - val_accuracy: 0.6270\n",
      "Epoch 3/20\n",
      "123848/123848 [==============================] - 29s 236us/step - loss: 0.7705 - accuracy: 0.6935 - val_loss: 0.8844 - val_accuracy: 0.6310\n",
      "Epoch 4/20\n",
      "123848/123848 [==============================] - 26s 207us/step - loss: 0.7278 - accuracy: 0.7118 - val_loss: 0.8799 - val_accuracy: 0.6430\n",
      "Epoch 5/20\n",
      "123848/123848 [==============================] - 27s 220us/step - loss: 0.6962 - accuracy: 0.7239 - val_loss: 0.8835 - val_accuracy: 0.6480\n",
      "Epoch 6/20\n",
      "123848/123848 [==============================] - 26s 208us/step - loss: 0.6695 - accuracy: 0.7348 - val_loss: 0.8935 - val_accuracy: 0.6430\n",
      "Epoch 7/20\n",
      "123848/123848 [==============================] - 26s 214us/step - loss: 0.6476 - accuracy: 0.7434 - val_loss: 0.8874 - val_accuracy: 0.6560\n",
      "Epoch 8/20\n",
      "123848/123848 [==============================] - 28s 225us/step - loss: 0.6269 - accuracy: 0.7524 - val_loss: 0.8987 - val_accuracy: 0.6550\n",
      "Epoch 9/20\n",
      "123848/123848 [==============================] - 27s 215us/step - loss: 0.6090 - accuracy: 0.7586 - val_loss: 0.9003 - val_accuracy: 0.6600\n",
      "Epoch 10/20\n",
      "123848/123848 [==============================] - 26s 211us/step - loss: 0.5921 - accuracy: 0.7661 - val_loss: 0.9118 - val_accuracy: 0.6410\n",
      "Epoch 11/20\n",
      "123848/123848 [==============================] - 27s 218us/step - loss: 0.5768 - accuracy: 0.7719 - val_loss: 0.9187 - val_accuracy: 0.6560\n",
      "Epoch 12/20\n",
      "123848/123848 [==============================] - 26s 209us/step - loss: 0.5633 - accuracy: 0.7771 - val_loss: 0.9087 - val_accuracy: 0.6490\n",
      "Epoch 13/20\n",
      "123848/123848 [==============================] - 27s 221us/step - loss: 0.5498 - accuracy: 0.7828 - val_loss: 0.9291 - val_accuracy: 0.6530\n",
      "Epoch 14/20\n",
      "123848/123848 [==============================] - 31s 248us/step - loss: 0.5369 - accuracy: 0.7887 - val_loss: 0.9448 - val_accuracy: 0.6500\n",
      "Epoch 15/20\n",
      "123848/123848 [==============================] - 28s 229us/step - loss: 0.5253 - accuracy: 0.7914 - val_loss: 0.9446 - val_accuracy: 0.6430\n",
      "Epoch 16/20\n",
      "123848/123848 [==============================] - 27s 219us/step - loss: 0.5146 - accuracy: 0.7964 - val_loss: 0.9663 - val_accuracy: 0.6390\n",
      "Epoch 17/20\n",
      "123848/123848 [==============================] - 28s 226us/step - loss: 0.5037 - accuracy: 0.8008 - val_loss: 0.9499 - val_accuracy: 0.6440\n",
      "Epoch 18/20\n",
      "123848/123848 [==============================] - 28s 227us/step - loss: 0.4935 - accuracy: 0.8047 - val_loss: 0.9744 - val_accuracy: 0.6450\n",
      "Epoch 19/20\n",
      "123848/123848 [==============================] - 26s 210us/step - loss: 0.4835 - accuracy: 0.8085 - val_loss: 0.9886 - val_accuracy: 0.6410\n",
      "Epoch 20/20\n",
      "123848/123848 [==============================] - 26s 207us/step - loss: 0.4739 - accuracy: 0.8131 - val_loss: 0.9892 - val_accuracy: 0.6420\n"
     ]
    }
   ],
   "source": [
    "# By using the fit method we are traing the model using train_X, train_y and validating it \n",
    "# on x_val, y_val which will give us 'val_loss', 'val_acc', 'training_loss', 'training_acc'\n",
    "history = model.fit(partial_x_train,\n",
    "partial_y_train,\n",
    "epochs=20,\n",
    "batch_size=512,\n",
    "validation_data=(x_val, y_val))"
   ]
  },
  {
   "cell_type": "code",
   "execution_count": 15,
   "metadata": {},
   "outputs": [
    {
     "data": {
      "text/plain": [
       "dict_keys(['val_loss', 'val_accuracy', 'loss', 'accuracy'])"
      ]
     },
     "execution_count": 15,
     "metadata": {},
     "output_type": "execute_result"
    }
   ],
   "source": [
    "model_history_dict = history.history\n",
    "model_history_dict.keys()"
   ]
  },
  {
   "cell_type": "code",
   "execution_count": 16,
   "metadata": {},
   "outputs": [
    {
     "data": {
      "image/png": "[encoded data removed]",
      "text/plain": [
       "<Figure size 432x288 with 1 Axes>"
      ]
     },
     "metadata": {
      "needs_background": "light"
     },
     "output_type": "display_data"
    }
   ],
   "source": [
    "import matplotlib.pyplot as plt\n",
    "loss = history.history['loss']\n",
    "val_loss = history.history['val_loss']\n",
    "epochs = range(1, len(loss) + 1)\n",
    "plt.plot(epochs, loss, 'bo', label='Training loss')\n",
    "plt.plot(epochs, val_loss, 'b', label='Validation loss')\n",
    "plt.title('Training and validation loss')\n",
    "plt.xlabel('Epochs')\n",
    "plt.ylabel('Loss')\n",
    "plt.legend()\n",
    "plt.show()"
   ]
  },
  {
   "cell_type": "code",
   "execution_count": 17,
   "metadata": {},
   "outputs": [
    {
     "data": {
      "image/png": "[encoded data removed]",
      "text/plain": [
       "<Figure size 432x288 with 1 Axes>"
      ]
     },
     "metadata": {
      "needs_background": "light"
     },
     "output_type": "display_data"
    }
   ],
   "source": [
    "acc = model_history_dict['accuracy']\n",
    "val_acc = history.history['val_accuracy']\n",
    "\n",
    "plt.plot(epochs, acc, 'bo', label='Training acc')\n",
    "plt.plot(epochs, val_acc, 'b', label='Validation acc')\n",
    "plt.title('Training and validation accuracy')\n",
    "plt.xlabel('Epochs')\n",
    "plt.ylabel('Loss')\n",
    "plt.legend()\n",
    "plt.show()\n"
   ]
  },
  {
   "cell_type": "code",
   "execution_count": 18,
   "metadata": {},
   "outputs": [
    {
     "name": "stdout",
     "output_type": "stream",
     "text": [
      "Train on 123848 samples, validate on 1000 samples\n",
      "Epoch 1/9\n",
      "123848/123848 [==============================] - 27s 217us/step - loss: 1.1147 - accuracy: 0.5710 - val_loss: 0.9372 - val_accuracy: 0.6160\n",
      "Epoch 2/9\n",
      "123848/123848 [==============================] - 28s 229us/step - loss: 0.8394 - accuracy: 0.6674 - val_loss: 0.8910 - val_accuracy: 0.6420\n",
      "Epoch 3/9\n",
      "123848/123848 [==============================] - 27s 215us/step - loss: 0.7679 - accuracy: 0.6946 - val_loss: 0.8789 - val_accuracy: 0.6440\n",
      "Epoch 4/9\n",
      "123848/123848 [==============================] - 30s 242us/step - loss: 0.7263 - accuracy: 0.7125 - val_loss: 0.8762 - val_accuracy: 0.6530\n",
      "Epoch 5/9\n",
      "123848/123848 [==============================] - 28s 224us/step - loss: 0.6948 - accuracy: 0.7254 - val_loss: 0.8834 - val_accuracy: 0.6570\n",
      "Epoch 6/9\n",
      "123848/123848 [==============================] - 27s 215us/step - loss: 0.6701 - accuracy: 0.7362 - val_loss: 0.8798 - val_accuracy: 0.6550\n",
      "Epoch 7/9\n",
      "123848/123848 [==============================] - 26s 212us/step - loss: 0.6500 - accuracy: 0.7437 - val_loss: 0.8719 - val_accuracy: 0.6670\n",
      "Epoch 8/9\n",
      "123848/123848 [==============================] - 26s 209us/step - loss: 0.6313 - accuracy: 0.7513 - val_loss: 0.8711 - val_accuracy: 0.6660\n",
      "Epoch 9/9\n",
      "123848/123848 [==============================] - 26s 210us/step - loss: 0.6150 - accuracy: 0.7567 - val_loss: 0.8804 - val_accuracy: 0.6590\n"
     ]
    },
    {
     "data": {
      "text/plain": [
       "<keras.callbacks.callbacks.History at 0x1c334a7950>"
      ]
     },
     "execution_count": 18,
     "metadata": {},
     "output_type": "execute_result"
    }
   ],
   "source": [
    "model = models.Sequential()\n",
    "model.add(layers.Dense(46, activation='relu', input_shape=input_shape_of_feature))\n",
    "model.add(layers.Dense(46, activation='relu'))\n",
    "model.add(layers.Dense(5, activation='softmax'))\n",
    "\n",
    "model.compile(optimizer='rmsprop', loss='categorical_crossentropy', metrics=['accuracy'])\n",
    "\n",
    "\n",
    "model.fit(partial_x_train, partial_y_train, epochs=9, batch_size=512, \n",
    "          validation_data=(x_val, y_val))"
   ]
  },
  {
   "cell_type": "code",
   "execution_count": 19,
   "metadata": {},
   "outputs": [
    {
     "name": "stdout",
     "output_type": "stream",
     "text": [
      "31212/31212 [==============================] - 6s 194us/step\n",
      "The test loss is:  0.8673412183087926\n",
      "The test accuracy is:  0.6676278114318848\n"
     ]
    }
   ],
   "source": [
    "# the parameters in the evalute return the loss and the metric value which is specified \n",
    "# under the compile method.\n",
    "\n",
    "test_loss, test_acc = model.evaluate(X_test, test_labels)\n",
    "\n",
    "print('The test loss is: ', test_loss)\n",
    "print('The test accuracy is: ',test_acc)"
   ]
  },
  {
   "cell_type": "code",
   "execution_count": 20,
   "metadata": {},
   "outputs": [],
   "source": [
    "predictions = model.predict(X_test)"
   ]
  },
  {
   "cell_type": "code",
   "execution_count": 21,
   "metadata": {},
   "outputs": [
    {
     "data": {
      "text/plain": [
       "(5,)"
      ]
     },
     "execution_count": 21,
     "metadata": {},
     "output_type": "execute_result"
    }
   ],
   "source": [
    "# Each entry in predictions is a vector of length 5\n",
    "predictions[0].shape"
   ]
  },
  {
   "cell_type": "code",
   "execution_count": 22,
   "metadata": {},
   "outputs": [
    {
     "data": {
      "text/plain": [
       "1.0"
      ]
     },
     "execution_count": 22,
     "metadata": {},
     "output_type": "execute_result"
    }
   ],
   "source": [
    "# The coefficients in this vector sum to 1:\n",
    "np.sum(predictions[0])"
   ]
  },
  {
   "cell_type": "code",
   "execution_count": 23,
   "metadata": {},
   "outputs": [
    {
     "data": {
      "text/plain": [
       "2"
      ]
     },
     "execution_count": 23,
     "metadata": {},
     "output_type": "execute_result"
    }
   ],
   "source": [
    "# The largest entry is the predicted class—the class with the highest probability:\n",
    "np.argmax(predictions[0])"
   ]
  },
  {
   "cell_type": "code",
   "execution_count": null,
   "metadata": {},
   "outputs": [],
   "source": []
  },
  {
   "cell_type": "code",
   "execution_count": null,
   "metadata": {},
   "outputs": [],
   "source": []
  }
 ],
 "metadata": {
  "kernelspec": {
   "display_name": "Python 3",
   "language": "python",
   "name": "python3"
  },
  "toc": {
   "base_numbering": 1,
   "nav_menu": {},
   "number_sections": true,
   "sideBar": true,
   "skip_h1_title": false,
   "title_cell": "Table of Contents",
   "title_sidebar": "Contents",
   "toc_cell": false,
   "toc_position": {},
   "toc_section_display": true,
   "toc_window_display": false
  },
  "varInspector": {
   "cols": {
    "lenName": 16,
    "lenType": 16,
    "lenVar": 40
   },
   "kernels_config": {
    "python": {
     "delete_cmd_postfix": "",
     "delete_cmd_prefix": "del ",
     "library": "var_list.py",
     "varRefreshCmd": "print(var_dic_list())"
    },
    "r": {
     "delete_cmd_postfix": ") ",
     "delete_cmd_prefix": "rm(",
     "library": "var_list.r",
     "varRefreshCmd": "cat(var_dic_list()) "
    }
   },
   "types_to_exclude": [
    "module",
    "function",
    "builtin_function_or_method",
    "instance",
    "_Feature"
   ],
   "window_display": false
  }
 },
 "nbformat": 4,
 "nbformat_minor": 2
}
